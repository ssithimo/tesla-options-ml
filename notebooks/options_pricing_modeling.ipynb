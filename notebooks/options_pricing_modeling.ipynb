{
  "cells": [
    {
      "cell_type": "markdown",
      "id": "mwixPsvofZat",
      "metadata": {
        "id": "mwixPsvofZat"
      },
      "source": [
        "#EXPLORATORY DATA ANALYSIS (EDA)"
      ]
    },
    {
      "cell_type": "code",
      "execution_count": null,
      "id": "d3eb1909-6809-4400-85a5-0f847a1d18c7",
      "metadata": {
        "colab": {
          "base_uri": "https://localhost:8080/",
          "height": 261
        },
        "id": "d3eb1909-6809-4400-85a5-0f847a1d18c7",
        "outputId": "ae627f3a-c10a-4c60-d8a8-f4619e929f55"
      },
      "outputs": [
        {
          "output_type": "display_data",
          "data": {
            "text/plain": [
              "<IPython.core.display.HTML object>"
            ],
            "text/html": [
              "\n",
              "     <input type=\"file\" id=\"files-4c366fab-c084-42b1-8e2d-837b6068b596\" name=\"files[]\" multiple disabled\n",
              "        style=\"border:none\" />\n",
              "     <output id=\"result-4c366fab-c084-42b1-8e2d-837b6068b596\">\n",
              "      Upload widget is only available when the cell has been executed in the\n",
              "      current browser session. Please rerun this cell to enable.\n",
              "      </output>\n",
              "      <script>// Copyright 2017 Google LLC\n",
              "//\n",
              "// Licensed under the Apache License, Version 2.0 (the \"License\");\n",
              "// you may not use this file except in compliance with the License.\n",
              "// You may obtain a copy of the License at\n",
              "//\n",
              "//      http://www.apache.org/licenses/LICENSE-2.0\n",
              "//\n",
              "// Unless required by applicable law or agreed to in writing, software\n",
              "// distributed under the License is distributed on an \"AS IS\" BASIS,\n",
              "// WITHOUT WARRANTIES OR CONDITIONS OF ANY KIND, either express or implied.\n",
              "// See the License for the specific language governing permissions and\n",
              "// limitations under the License.\n",
              "\n",
              "/**\n",
              " * @fileoverview Helpers for google.colab Python module.\n",
              " */\n",
              "(function(scope) {\n",
              "function span(text, styleAttributes = {}) {\n",
              "  const element = document.createElement('span');\n",
              "  element.textContent = text;\n",
              "  for (const key of Object.keys(styleAttributes)) {\n",
              "    element.style[key] = styleAttributes[key];\n",
              "  }\n",
              "  return element;\n",
              "}\n",
              "\n",
              "// Max number of bytes which will be uploaded at a time.\n",
              "const MAX_PAYLOAD_SIZE = 100 * 1024;\n",
              "\n",
              "function _uploadFiles(inputId, outputId) {\n",
              "  const steps = uploadFilesStep(inputId, outputId);\n",
              "  const outputElement = document.getElementById(outputId);\n",
              "  // Cache steps on the outputElement to make it available for the next call\n",
              "  // to uploadFilesContinue from Python.\n",
              "  outputElement.steps = steps;\n",
              "\n",
              "  return _uploadFilesContinue(outputId);\n",
              "}\n",
              "\n",
              "// This is roughly an async generator (not supported in the browser yet),\n",
              "// where there are multiple asynchronous steps and the Python side is going\n",
              "// to poll for completion of each step.\n",
              "// This uses a Promise to block the python side on completion of each step,\n",
              "// then passes the result of the previous step as the input to the next step.\n",
              "function _uploadFilesContinue(outputId) {\n",
              "  const outputElement = document.getElementById(outputId);\n",
              "  const steps = outputElement.steps;\n",
              "\n",
              "  const next = steps.next(outputElement.lastPromiseValue);\n",
              "  return Promise.resolve(next.value.promise).then((value) => {\n",
              "    // Cache the last promise value to make it available to the next\n",
              "    // step of the generator.\n",
              "    outputElement.lastPromiseValue = value;\n",
              "    return next.value.response;\n",
              "  });\n",
              "}\n",
              "\n",
              "/**\n",
              " * Generator function which is called between each async step of the upload\n",
              " * process.\n",
              " * @param {string} inputId Element ID of the input file picker element.\n",
              " * @param {string} outputId Element ID of the output display.\n",
              " * @return {!Iterable<!Object>} Iterable of next steps.\n",
              " */\n",
              "function* uploadFilesStep(inputId, outputId) {\n",
              "  const inputElement = document.getElementById(inputId);\n",
              "  inputElement.disabled = false;\n",
              "\n",
              "  const outputElement = document.getElementById(outputId);\n",
              "  outputElement.innerHTML = '';\n",
              "\n",
              "  const pickedPromise = new Promise((resolve) => {\n",
              "    inputElement.addEventListener('change', (e) => {\n",
              "      resolve(e.target.files);\n",
              "    });\n",
              "  });\n",
              "\n",
              "  const cancel = document.createElement('button');\n",
              "  inputElement.parentElement.appendChild(cancel);\n",
              "  cancel.textContent = 'Cancel upload';\n",
              "  const cancelPromise = new Promise((resolve) => {\n",
              "    cancel.onclick = () => {\n",
              "      resolve(null);\n",
              "    };\n",
              "  });\n",
              "\n",
              "  // Wait for the user to pick the files.\n",
              "  const files = yield {\n",
              "    promise: Promise.race([pickedPromise, cancelPromise]),\n",
              "    response: {\n",
              "      action: 'starting',\n",
              "    }\n",
              "  };\n",
              "\n",
              "  cancel.remove();\n",
              "\n",
              "  // Disable the input element since further picks are not allowed.\n",
              "  inputElement.disabled = true;\n",
              "\n",
              "  if (!files) {\n",
              "    return {\n",
              "      response: {\n",
              "        action: 'complete',\n",
              "      }\n",
              "    };\n",
              "  }\n",
              "\n",
              "  for (const file of files) {\n",
              "    const li = document.createElement('li');\n",
              "    li.append(span(file.name, {fontWeight: 'bold'}));\n",
              "    li.append(span(\n",
              "        `(${file.type || 'n/a'}) - ${file.size} bytes, ` +\n",
              "        `last modified: ${\n",
              "            file.lastModifiedDate ? file.lastModifiedDate.toLocaleDateString() :\n",
              "                                    'n/a'} - `));\n",
              "    const percent = span('0% done');\n",
              "    li.appendChild(percent);\n",
              "\n",
              "    outputElement.appendChild(li);\n",
              "\n",
              "    const fileDataPromise = new Promise((resolve) => {\n",
              "      const reader = new FileReader();\n",
              "      reader.onload = (e) => {\n",
              "        resolve(e.target.result);\n",
              "      };\n",
              "      reader.readAsArrayBuffer(file);\n",
              "    });\n",
              "    // Wait for the data to be ready.\n",
              "    let fileData = yield {\n",
              "      promise: fileDataPromise,\n",
              "      response: {\n",
              "        action: 'continue',\n",
              "      }\n",
              "    };\n",
              "\n",
              "    // Use a chunked sending to avoid message size limits. See b/62115660.\n",
              "    let position = 0;\n",
              "    do {\n",
              "      const length = Math.min(fileData.byteLength - position, MAX_PAYLOAD_SIZE);\n",
              "      const chunk = new Uint8Array(fileData, position, length);\n",
              "      position += length;\n",
              "\n",
              "      const base64 = btoa(String.fromCharCode.apply(null, chunk));\n",
              "      yield {\n",
              "        response: {\n",
              "          action: 'append',\n",
              "          file: file.name,\n",
              "          data: base64,\n",
              "        },\n",
              "      };\n",
              "\n",
              "      let percentDone = fileData.byteLength === 0 ?\n",
              "          100 :\n",
              "          Math.round((position / fileData.byteLength) * 100);\n",
              "      percent.textContent = `${percentDone}% done`;\n",
              "\n",
              "    } while (position < fileData.byteLength);\n",
              "  }\n",
              "\n",
              "  // All done.\n",
              "  yield {\n",
              "    response: {\n",
              "      action: 'complete',\n",
              "    }\n",
              "  };\n",
              "}\n",
              "\n",
              "scope.google = scope.google || {};\n",
              "scope.google.colab = scope.google.colab || {};\n",
              "scope.google.colab._files = {\n",
              "  _uploadFiles,\n",
              "  _uploadFilesContinue,\n",
              "};\n",
              "})(self);\n",
              "</script> "
            ]
          },
          "metadata": {}
        },
        {
          "output_type": "stream",
          "name": "stdout",
          "text": [
            "Saving option_train.csv to option_train.csv\n"
          ]
        },
        {
          "output_type": "execute_result",
          "data": {
            "text/plain": [
              "   Unnamed: 0    Value        S     K       tau       r     BS\n",
              "0           1  348.500  1394.46  1050  0.128767  0.0116  Under\n",
              "1           2  149.375  1432.25  1400  0.679452  0.0113  Under\n",
              "2           3  294.500  1478.90  1225  0.443836  0.0112  Under\n",
              "3           4    3.375  1369.89  1500  0.117808  0.0119   Over\n",
              "4           5   84.000  1366.42  1350  0.298630  0.0119  Under"
            ],
            "text/html": [
              "\n",
              "  <div id=\"df-15b9047e-9d38-4ce4-8310-c2bee9ac930e\" class=\"colab-df-container\">\n",
              "    <div>\n",
              "<style scoped>\n",
              "    .dataframe tbody tr th:only-of-type {\n",
              "        vertical-align: middle;\n",
              "    }\n",
              "\n",
              "    .dataframe tbody tr th {\n",
              "        vertical-align: top;\n",
              "    }\n",
              "\n",
              "    .dataframe thead th {\n",
              "        text-align: right;\n",
              "    }\n",
              "</style>\n",
              "<table border=\"1\" class=\"dataframe\">\n",
              "  <thead>\n",
              "    <tr style=\"text-align: right;\">\n",
              "      <th></th>\n",
              "      <th>Unnamed: 0</th>\n",
              "      <th>Value</th>\n",
              "      <th>S</th>\n",
              "      <th>K</th>\n",
              "      <th>tau</th>\n",
              "      <th>r</th>\n",
              "      <th>BS</th>\n",
              "    </tr>\n",
              "  </thead>\n",
              "  <tbody>\n",
              "    <tr>\n",
              "      <th>0</th>\n",
              "      <td>1</td>\n",
              "      <td>348.500</td>\n",
              "      <td>1394.46</td>\n",
              "      <td>1050</td>\n",
              "      <td>0.128767</td>\n",
              "      <td>0.0116</td>\n",
              "      <td>Under</td>\n",
              "    </tr>\n",
              "    <tr>\n",
              "      <th>1</th>\n",
              "      <td>2</td>\n",
              "      <td>149.375</td>\n",
              "      <td>1432.25</td>\n",
              "      <td>1400</td>\n",
              "      <td>0.679452</td>\n",
              "      <td>0.0113</td>\n",
              "      <td>Under</td>\n",
              "    </tr>\n",
              "    <tr>\n",
              "      <th>2</th>\n",
              "      <td>3</td>\n",
              "      <td>294.500</td>\n",
              "      <td>1478.90</td>\n",
              "      <td>1225</td>\n",
              "      <td>0.443836</td>\n",
              "      <td>0.0112</td>\n",
              "      <td>Under</td>\n",
              "    </tr>\n",
              "    <tr>\n",
              "      <th>3</th>\n",
              "      <td>4</td>\n",
              "      <td>3.375</td>\n",
              "      <td>1369.89</td>\n",
              "      <td>1500</td>\n",
              "      <td>0.117808</td>\n",
              "      <td>0.0119</td>\n",
              "      <td>Over</td>\n",
              "    </tr>\n",
              "    <tr>\n",
              "      <th>4</th>\n",
              "      <td>5</td>\n",
              "      <td>84.000</td>\n",
              "      <td>1366.42</td>\n",
              "      <td>1350</td>\n",
              "      <td>0.298630</td>\n",
              "      <td>0.0119</td>\n",
              "      <td>Under</td>\n",
              "    </tr>\n",
              "  </tbody>\n",
              "</table>\n",
              "</div>\n",
              "    <div class=\"colab-df-buttons\">\n",
              "\n",
              "  <div class=\"colab-df-container\">\n",
              "    <button class=\"colab-df-convert\" onclick=\"convertToInteractive('df-15b9047e-9d38-4ce4-8310-c2bee9ac930e')\"\n",
              "            title=\"Convert this dataframe to an interactive table.\"\n",
              "            style=\"display:none;\">\n",
              "\n",
              "  <svg xmlns=\"http://www.w3.org/2000/svg\" height=\"24px\" viewBox=\"0 -960 960 960\">\n",
              "    <path d=\"M120-120v-720h720v720H120Zm60-500h600v-160H180v160Zm220 220h160v-160H400v160Zm0 220h160v-160H400v160ZM180-400h160v-160H180v160Zm440 0h160v-160H620v160ZM180-180h160v-160H180v160Zm440 0h160v-160H620v160Z\"/>\n",
              "  </svg>\n",
              "    </button>\n",
              "\n",
              "  <style>\n",
              "    .colab-df-container {\n",
              "      display:flex;\n",
              "      gap: 12px;\n",
              "    }\n",
              "\n",
              "    .colab-df-convert {\n",
              "      background-color: #E8F0FE;\n",
              "      border: none;\n",
              "      border-radius: 50%;\n",
              "      cursor: pointer;\n",
              "      display: none;\n",
              "      fill: #1967D2;\n",
              "      height: 32px;\n",
              "      padding: 0 0 0 0;\n",
              "      width: 32px;\n",
              "    }\n",
              "\n",
              "    .colab-df-convert:hover {\n",
              "      background-color: #E2EBFA;\n",
              "      box-shadow: 0px 1px 2px rgba(60, 64, 67, 0.3), 0px 1px 3px 1px rgba(60, 64, 67, 0.15);\n",
              "      fill: #174EA6;\n",
              "    }\n",
              "\n",
              "    .colab-df-buttons div {\n",
              "      margin-bottom: 4px;\n",
              "    }\n",
              "\n",
              "    [theme=dark] .colab-df-convert {\n",
              "      background-color: #3B4455;\n",
              "      fill: #D2E3FC;\n",
              "    }\n",
              "\n",
              "    [theme=dark] .colab-df-convert:hover {\n",
              "      background-color: #434B5C;\n",
              "      box-shadow: 0px 1px 3px 1px rgba(0, 0, 0, 0.15);\n",
              "      filter: drop-shadow(0px 1px 2px rgba(0, 0, 0, 0.3));\n",
              "      fill: #FFFFFF;\n",
              "    }\n",
              "  </style>\n",
              "\n",
              "    <script>\n",
              "      const buttonEl =\n",
              "        document.querySelector('#df-15b9047e-9d38-4ce4-8310-c2bee9ac930e button.colab-df-convert');\n",
              "      buttonEl.style.display =\n",
              "        google.colab.kernel.accessAllowed ? 'block' : 'none';\n",
              "\n",
              "      async function convertToInteractive(key) {\n",
              "        const element = document.querySelector('#df-15b9047e-9d38-4ce4-8310-c2bee9ac930e');\n",
              "        const dataTable =\n",
              "          await google.colab.kernel.invokeFunction('convertToInteractive',\n",
              "                                                    [key], {});\n",
              "        if (!dataTable) return;\n",
              "\n",
              "        const docLinkHtml = 'Like what you see? Visit the ' +\n",
              "          '<a target=\"_blank\" href=https://colab.research.google.com/notebooks/data_table.ipynb>data table notebook</a>'\n",
              "          + ' to learn more about interactive tables.';\n",
              "        element.innerHTML = '';\n",
              "        dataTable['output_type'] = 'display_data';\n",
              "        await google.colab.output.renderOutput(dataTable, element);\n",
              "        const docLink = document.createElement('div');\n",
              "        docLink.innerHTML = docLinkHtml;\n",
              "        element.appendChild(docLink);\n",
              "      }\n",
              "    </script>\n",
              "  </div>\n",
              "\n",
              "\n",
              "<div id=\"df-55b00278-a6a5-43cd-b7a5-16bb9f8b0d3d\">\n",
              "  <button class=\"colab-df-quickchart\" onclick=\"quickchart('df-55b00278-a6a5-43cd-b7a5-16bb9f8b0d3d')\"\n",
              "            title=\"Suggest charts\"\n",
              "            style=\"display:none;\">\n",
              "\n",
              "<svg xmlns=\"http://www.w3.org/2000/svg\" height=\"24px\"viewBox=\"0 0 24 24\"\n",
              "     width=\"24px\">\n",
              "    <g>\n",
              "        <path d=\"M19 3H5c-1.1 0-2 .9-2 2v14c0 1.1.9 2 2 2h14c1.1 0 2-.9 2-2V5c0-1.1-.9-2-2-2zM9 17H7v-7h2v7zm4 0h-2V7h2v10zm4 0h-2v-4h2v4z\"/>\n",
              "    </g>\n",
              "</svg>\n",
              "  </button>\n",
              "\n",
              "<style>\n",
              "  .colab-df-quickchart {\n",
              "      --bg-color: #E8F0FE;\n",
              "      --fill-color: #1967D2;\n",
              "      --hover-bg-color: #E2EBFA;\n",
              "      --hover-fill-color: #174EA6;\n",
              "      --disabled-fill-color: #AAA;\n",
              "      --disabled-bg-color: #DDD;\n",
              "  }\n",
              "\n",
              "  [theme=dark] .colab-df-quickchart {\n",
              "      --bg-color: #3B4455;\n",
              "      --fill-color: #D2E3FC;\n",
              "      --hover-bg-color: #434B5C;\n",
              "      --hover-fill-color: #FFFFFF;\n",
              "      --disabled-bg-color: #3B4455;\n",
              "      --disabled-fill-color: #666;\n",
              "  }\n",
              "\n",
              "  .colab-df-quickchart {\n",
              "    background-color: var(--bg-color);\n",
              "    border: none;\n",
              "    border-radius: 50%;\n",
              "    cursor: pointer;\n",
              "    display: none;\n",
              "    fill: var(--fill-color);\n",
              "    height: 32px;\n",
              "    padding: 0;\n",
              "    width: 32px;\n",
              "  }\n",
              "\n",
              "  .colab-df-quickchart:hover {\n",
              "    background-color: var(--hover-bg-color);\n",
              "    box-shadow: 0 1px 2px rgba(60, 64, 67, 0.3), 0 1px 3px 1px rgba(60, 64, 67, 0.15);\n",
              "    fill: var(--button-hover-fill-color);\n",
              "  }\n",
              "\n",
              "  .colab-df-quickchart-complete:disabled,\n",
              "  .colab-df-quickchart-complete:disabled:hover {\n",
              "    background-color: var(--disabled-bg-color);\n",
              "    fill: var(--disabled-fill-color);\n",
              "    box-shadow: none;\n",
              "  }\n",
              "\n",
              "  .colab-df-spinner {\n",
              "    border: 2px solid var(--fill-color);\n",
              "    border-color: transparent;\n",
              "    border-bottom-color: var(--fill-color);\n",
              "    animation:\n",
              "      spin 1s steps(1) infinite;\n",
              "  }\n",
              "\n",
              "  @keyframes spin {\n",
              "    0% {\n",
              "      border-color: transparent;\n",
              "      border-bottom-color: var(--fill-color);\n",
              "      border-left-color: var(--fill-color);\n",
              "    }\n",
              "    20% {\n",
              "      border-color: transparent;\n",
              "      border-left-color: var(--fill-color);\n",
              "      border-top-color: var(--fill-color);\n",
              "    }\n",
              "    30% {\n",
              "      border-color: transparent;\n",
              "      border-left-color: var(--fill-color);\n",
              "      border-top-color: var(--fill-color);\n",
              "      border-right-color: var(--fill-color);\n",
              "    }\n",
              "    40% {\n",
              "      border-color: transparent;\n",
              "      border-right-color: var(--fill-color);\n",
              "      border-top-color: var(--fill-color);\n",
              "    }\n",
              "    60% {\n",
              "      border-color: transparent;\n",
              "      border-right-color: var(--fill-color);\n",
              "    }\n",
              "    80% {\n",
              "      border-color: transparent;\n",
              "      border-right-color: var(--fill-color);\n",
              "      border-bottom-color: var(--fill-color);\n",
              "    }\n",
              "    90% {\n",
              "      border-color: transparent;\n",
              "      border-bottom-color: var(--fill-color);\n",
              "    }\n",
              "  }\n",
              "</style>\n",
              "\n",
              "  <script>\n",
              "    async function quickchart(key) {\n",
              "      const quickchartButtonEl =\n",
              "        document.querySelector('#' + key + ' button');\n",
              "      quickchartButtonEl.disabled = true;  // To prevent multiple clicks.\n",
              "      quickchartButtonEl.classList.add('colab-df-spinner');\n",
              "      try {\n",
              "        const charts = await google.colab.kernel.invokeFunction(\n",
              "            'suggestCharts', [key], {});\n",
              "      } catch (error) {\n",
              "        console.error('Error during call to suggestCharts:', error);\n",
              "      }\n",
              "      quickchartButtonEl.classList.remove('colab-df-spinner');\n",
              "      quickchartButtonEl.classList.add('colab-df-quickchart-complete');\n",
              "    }\n",
              "    (() => {\n",
              "      let quickchartButtonEl =\n",
              "        document.querySelector('#df-55b00278-a6a5-43cd-b7a5-16bb9f8b0d3d button');\n",
              "      quickchartButtonEl.style.display =\n",
              "        google.colab.kernel.accessAllowed ? 'block' : 'none';\n",
              "    })();\n",
              "  </script>\n",
              "</div>\n",
              "\n",
              "    </div>\n",
              "  </div>\n"
            ],
            "application/vnd.google.colaboratory.intrinsic+json": {
              "type": "dataframe",
              "variable_name": "df_train",
              "summary": "{\n  \"name\": \"df_train\",\n  \"rows\": 5000,\n  \"fields\": [\n    {\n      \"column\": \"Unnamed: 0\",\n      \"properties\": {\n        \"dtype\": \"number\",\n        \"std\": 1443,\n        \"min\": 1,\n        \"max\": 5000,\n        \"num_unique_values\": 5000,\n        \"samples\": [\n          1502,\n          2587,\n          2654\n        ],\n        \"semantic_type\": \"\",\n        \"description\": \"\"\n      }\n    },\n    {\n      \"column\": \"Value\",\n      \"properties\": {\n        \"dtype\": \"number\",\n        \"std\": 125.15500007326867,\n        \"min\": 0.28125,\n        \"max\": 685.5,\n        \"num_unique_values\": 2001,\n        \"samples\": [\n          229.125,\n          86.0,\n          347.375\n        ],\n        \"semantic_type\": \"\",\n        \"description\": \"\"\n      }\n    },\n    {\n      \"column\": \"S\",\n      \"properties\": {\n        \"dtype\": \"number\",\n        \"std\": 56.05152255114043,\n        \"min\": 1264.74,\n        \"max\": 1527.46,\n        \"num_unique_values\": 250,\n        \"samples\": [\n          1455.14,\n          1445.57,\n          1400.14\n        ],\n        \"semantic_type\": \"\",\n        \"description\": \"\"\n      }\n    },\n    {\n      \"column\": \"K\",\n      \"properties\": {\n        \"dtype\": \"number\",\n        \"std\": 172,\n        \"min\": 750,\n        \"max\": 1995,\n        \"num_unique_values\": 73,\n        \"samples\": [\n          1350,\n          1360,\n          1550\n        ],\n        \"semantic_type\": \"\",\n        \"description\": \"\"\n      }\n    },\n    {\n      \"column\": \"tau\",\n      \"properties\": {\n        \"dtype\": \"number\",\n        \"std\": 0.23118440981502342,\n        \"min\": 0.0849315068493151,\n        \"max\": 0.989041095890411,\n        \"num_unique_values\": 237,\n        \"samples\": [\n          0.931506849315068,\n          0.175342465753425,\n          0.654794520547945\n        ],\n        \"semantic_type\": \"\",\n        \"description\": \"\"\n      }\n    },\n    {\n      \"column\": \"r\",\n      \"properties\": {\n        \"dtype\": \"number\",\n        \"std\": 0.0004483820349767127,\n        \"min\": 0.0106,\n        \"max\": 0.0129,\n        \"num_unique_values\": 22,\n        \"samples\": [\n          0.0116,\n          0.0118,\n          0.0109\n        ],\n        \"semantic_type\": \"\",\n        \"description\": \"\"\n      }\n    },\n    {\n      \"column\": \"BS\",\n      \"properties\": {\n        \"dtype\": \"category\",\n        \"num_unique_values\": 2,\n        \"samples\": [\n          \"Over\",\n          \"Under\"\n        ],\n        \"semantic_type\": \"\",\n        \"description\": \"\"\n      }\n    }\n  ]\n}"
            }
          },
          "metadata": {},
          "execution_count": 1
        }
      ],
      "source": [
        "import pandas as pd\n",
        "import numpy as np\n",
        "\n",
        "from google.colab import files\n",
        "uploaded = files.upload()\n",
        "\n",
        "#load training dataset\n",
        "df_train = pd.read_csv('option_train.csv')\n",
        "df_train.head()"
      ]
    },
    {
      "cell_type": "code",
      "execution_count": null,
      "id": "D8ra5HMujbpL",
      "metadata": {
        "colab": {
          "base_uri": "https://localhost:8080/"
        },
        "id": "D8ra5HMujbpL",
        "outputId": "5821a7bd-fa23-4a7c-ba64-28769686dbb7"
      },
      "outputs": [
        {
          "output_type": "execute_result",
          "data": {
            "text/plain": [
              "Value    0\n",
              "S        0\n",
              "K        0\n",
              "tau      0\n",
              "r        0\n",
              "BS       0\n",
              "dtype: int64"
            ]
          },
          "metadata": {},
          "execution_count": 2
        }
      ],
      "source": [
        "#dropping the first column\n",
        "df_train = df_train.drop(['Unnamed: 0'], axis = 1)\n",
        "\n",
        "#check for nulls\n",
        "df_train.isnull().sum()"
      ]
    },
    {
      "cell_type": "code",
      "execution_count": null,
      "id": "EhtMtq4Cjkna",
      "metadata": {
        "colab": {
          "base_uri": "https://localhost:8080/"
        },
        "id": "EhtMtq4Cjkna",
        "outputId": "3b68eef0-187a-4cc2-813e-73153669fda5"
      },
      "outputs": [
        {
          "output_type": "stream",
          "name": "stdout",
          "text": [
            "             Value            S            K          tau            r\n",
            "count  5000.000000  5000.000000  5000.000000  5000.000000  5000.000000\n",
            "mean    140.316869  1426.643916  1370.244000     0.327615     0.011468\n",
            "std     125.155000    56.051523   172.679107     0.231184     0.000448\n",
            "min       0.281250  1264.740000   750.000000     0.084932     0.010600\n",
            "25%      45.750000  1387.670000  1275.000000     0.142466     0.011100\n",
            "50%     105.125000  1434.320000  1400.000000     0.238356     0.011400\n",
            "75%     200.406250  1469.440000  1475.000000     0.463014     0.011700\n",
            "max     685.500000  1527.460000  1995.000000     0.989041     0.012900\n"
          ]
        }
      ],
      "source": [
        "#check for zero or negative values\n",
        "print(df_train.describe())"
      ]
    },
    {
      "cell_type": "code",
      "execution_count": null,
      "id": "AGZ2nIOGjrlC",
      "metadata": {
        "colab": {
          "base_uri": "https://localhost:8080/"
        },
        "id": "AGZ2nIOGjrlC",
        "outputId": "c6562bcb-85e6-4e75-99f1-8f02ad8dd6c1"
      },
      "outputs": [
        {
          "output_type": "execute_result",
          "data": {
            "text/plain": [
              "BS\n",
              "Under    3868\n",
              "Over     1132\n",
              "Name: count, dtype: int64"
            ]
          },
          "metadata": {},
          "execution_count": 4
        }
      ],
      "source": [
        "#check for BS count\n",
        "df_train.BS.value_counts()"
      ]
    },
    {
      "cell_type": "code",
      "execution_count": null,
      "id": "rVCaacGOjsBa",
      "metadata": {
        "colab": {
          "base_uri": "https://localhost:8080/"
        },
        "id": "rVCaacGOjsBa",
        "outputId": "c4020858-34fb-488a-e5c1-64be3418844f"
      },
      "outputs": [
        {
          "output_type": "stream",
          "name": "stdout",
          "text": [
            "        Value        S     K       tau       r     BS  BSE\n",
            "0     348.500  1394.46  1050  0.128767  0.0116  Under    0\n",
            "1     149.375  1432.25  1400  0.679452  0.0113  Under    0\n",
            "2     294.500  1478.90  1225  0.443836  0.0112  Under    0\n",
            "3       3.375  1369.89  1500  0.117808  0.0119   Over    1\n",
            "4      84.000  1366.42  1350  0.298630  0.0119  Under    0\n",
            "...       ...      ...   ...       ...     ...    ...  ...\n",
            "4995  325.250  1465.15  1175  0.424658  0.0111  Under    0\n",
            "4996   36.000  1480.87  1480  0.101370  0.0111   Over    1\n",
            "4997   90.000  1356.56  1500  0.673973  0.0120  Under    0\n",
            "4998  175.875  1333.36  1200  0.309589  0.0122  Under    0\n",
            "4999  106.375  1480.87  1475  0.504110  0.0111  Under    0\n",
            "\n",
            "[5000 rows x 7 columns]\n"
          ]
        }
      ],
      "source": [
        "#encode under as 0 and over as 1 in the BS column\n",
        "mapping = {'Under': 0, 'Over': 1}\n",
        "df_train['BSE'] = df_train['BS'].map(mapping)\n",
        "print(df_train)"
      ]
    },
    {
      "cell_type": "code",
      "execution_count": null,
      "id": "SU8DM1dQjsEh",
      "metadata": {
        "colab": {
          "base_uri": "https://localhost:8080/"
        },
        "id": "SU8DM1dQjsEh",
        "outputId": "632da1b9-745c-4a22-e342-10b7923f9b17"
      },
      "outputs": [
        {
          "output_type": "stream",
          "name": "stdout",
          "text": [
            "        Value         S         K       tau         r     BS  BSE\n",
            "0     348.500  0.493758  0.240964  0.048485  0.434783  Under    0\n",
            "1     149.375  0.637599  0.522088  0.657576  0.304348  Under    0\n",
            "2     294.500  0.815164  0.381526  0.396970  0.260870  Under    0\n",
            "3       3.375  0.400236  0.602410  0.036364  0.565217   Over    1\n",
            "4      84.000  0.387028  0.481928  0.236364  0.565217  Under    0\n",
            "...       ...       ...       ...       ...       ...    ...  ...\n",
            "4995  325.250  0.762827  0.341365  0.375758  0.217391  Under    0\n",
            "4996   36.000  0.822663  0.586345  0.018182  0.217391   Over    1\n",
            "4997   90.000  0.349498  0.602410  0.651515  0.608696  Under    0\n",
            "4998  175.875  0.261191  0.361446  0.248485  0.695652  Under    0\n",
            "4999  106.375  0.822663  0.582329  0.463636  0.217391  Under    0\n",
            "\n",
            "[5000 rows x 7 columns]\n"
          ]
        }
      ],
      "source": [
        "#normalize training features data\n",
        "from sklearn.preprocessing import MinMaxScaler\n",
        "\n",
        "scaler = MinMaxScaler()\n",
        "\n",
        "numerical_features = ['S', 'K', 'tau', 'r']\n",
        "\n",
        "df_train[numerical_features] = scaler.fit_transform(df_train[numerical_features])\n",
        "\n",
        "print(df_train)"
      ]
    },
    {
      "cell_type": "code",
      "execution_count": null,
      "id": "UMlgNjKIjsHp",
      "metadata": {
        "colab": {
          "base_uri": "https://localhost:8080/"
        },
        "id": "UMlgNjKIjsHp",
        "outputId": "08cc7c1e-c29a-40a1-caa6-be007f114b3c"
      },
      "outputs": [
        {
          "output_type": "stream",
          "name": "stdout",
          "text": [
            "Features: \n",
            "             S         K       tau         r\n",
            "0     0.493758  0.240964  0.048485  0.434783\n",
            "1     0.637599  0.522088  0.657576  0.304348\n",
            "2     0.815164  0.381526  0.396970  0.260870\n",
            "3     0.400236  0.602410  0.036364  0.565217\n",
            "4     0.387028  0.481928  0.236364  0.565217\n",
            "...        ...       ...       ...       ...\n",
            "4995  0.762827  0.341365  0.375758  0.217391\n",
            "4996  0.822663  0.586345  0.018182  0.217391\n",
            "4997  0.349498  0.602410  0.651515  0.608696\n",
            "4998  0.261191  0.361446  0.248485  0.695652\n",
            "4999  0.822663  0.582329  0.463636  0.217391\n",
            "\n",
            "[5000 rows x 4 columns]\n",
            "\n",
            "Target: \n",
            "0       348.500\n",
            "1       149.375\n",
            "2       294.500\n",
            "3         3.375\n",
            "4        84.000\n",
            "         ...   \n",
            "4995    325.250\n",
            "4996     36.000\n",
            "4997     90.000\n",
            "4998    175.875\n",
            "4999    106.375\n",
            "Name: Value, Length: 5000, dtype: float64\n"
          ]
        }
      ],
      "source": [
        "#training and features for regression\n",
        "X_train = df_train.drop(columns = ['Value', 'BS', 'BSE']) #dropping value, bs, and bse columns\n",
        "y_train = df_train['Value'] #all rows column 1\n",
        "training = df_train.drop(columns = ['BSE', 'BS']) #dropping columns bs and bse\n",
        "print(\"Features: \")\n",
        "print(X_train)\n",
        "print()\n",
        "print(\"Target: \")\n",
        "print(y_train)"
      ]
    },
    {
      "cell_type": "markdown",
      "id": "5G9UnHs4mtoP",
      "metadata": {
        "id": "5G9UnHs4mtoP"
      },
      "source": [
        "#REGRESSION MODELS:"
      ]
    },
    {
      "cell_type": "markdown",
      "id": "WHp_r-AnkH24",
      "metadata": {
        "id": "WHp_r-AnkH24"
      },
      "source": [
        "##Linear Regression"
      ]
    },
    {
      "cell_type": "code",
      "execution_count": null,
      "id": "c3gJqJDrjsQO",
      "metadata": {
        "colab": {
          "base_uri": "https://localhost:8080/"
        },
        "id": "c3gJqJDrjsQO",
        "outputId": "17adb6f4-b5bb-4724-b6b1-61d13e07ed61"
      },
      "outputs": [
        {
          "output_type": "stream",
          "name": "stdout",
          "text": [
            "Mean CV MSE score for OLS: 1178.304931\n",
            "\n",
            "Mean CV R-squared score for OLS: 0.924414\n"
          ]
        }
      ],
      "source": [
        "from sklearn.model_selection import KFold, cross_val_score\n",
        "from sklearn.linear_model import LinearRegression\n",
        "\n",
        "#setup ols\n",
        "ols_model = LinearRegression()\n",
        "\n",
        "#setup k-fold cross-validation with k = 10 and compute mse\n",
        "folds = 10\n",
        "k_fold = KFold(n_splits = folds, random_state = 42, shuffle = True)\n",
        "cv_score_ols_r2 = cross_val_score(ols_model, X_train, y_train, cv = k_fold, scoring = 'r2')\n",
        "cv_score_ols_mse = cross_val_score(ols_model, X_train, y_train, cv = k_fold, scoring = 'neg_mean_squared_error')\n",
        "\n",
        "#print the mean cv rmse score\n",
        "print(\"Mean CV MSE score for OLS:\", round(-cv_score_ols_mse.mean(), 6))\n",
        "print()\n",
        "#print the mean cv r2 score\n",
        "print(\"Mean CV R-squared score for OLS:\", round(cv_score_ols_r2.mean(), 6))"
      ]
    },
    {
      "cell_type": "markdown",
      "id": "KSaWMiNIxJXP",
      "metadata": {
        "id": "KSaWMiNIxJXP"
      },
      "source": [
        "## K Means Clustering\n"
      ]
    },
    {
      "cell_type": "code",
      "execution_count": null,
      "id": "f4e152fe-7778-4c7e-91aa-d90e1a1e3ce7",
      "metadata": {
        "colab": {
          "base_uri": "https://localhost:8080/",
          "height": 780
        },
        "id": "f4e152fe-7778-4c7e-91aa-d90e1a1e3ce7",
        "outputId": "1e4e138f-b484-4634-f56b-dba01e789390"
      },
      "outputs": [
        {
          "output_type": "stream",
          "name": "stderr",
          "text": [
            "/usr/local/lib/python3.10/dist-packages/sklearn/cluster/_kmeans.py:870: FutureWarning: The default value of `n_init` will change from 10 to 'auto' in 1.4. Set the value of `n_init` explicitly to suppress the warning\n",
            "  warnings.warn(\n",
            "/usr/local/lib/python3.10/dist-packages/sklearn/cluster/_kmeans.py:870: FutureWarning: The default value of `n_init` will change from 10 to 'auto' in 1.4. Set the value of `n_init` explicitly to suppress the warning\n",
            "  warnings.warn(\n",
            "/usr/local/lib/python3.10/dist-packages/sklearn/cluster/_kmeans.py:870: FutureWarning: The default value of `n_init` will change from 10 to 'auto' in 1.4. Set the value of `n_init` explicitly to suppress the warning\n",
            "  warnings.warn(\n",
            "/usr/local/lib/python3.10/dist-packages/sklearn/cluster/_kmeans.py:870: FutureWarning: The default value of `n_init` will change from 10 to 'auto' in 1.4. Set the value of `n_init` explicitly to suppress the warning\n",
            "  warnings.warn(\n"
          ]
        },
        {
          "output_type": "stream",
          "name": "stdout",
          "text": [
            "Best number of clusters: 3\n"
          ]
        },
        {
          "output_type": "stream",
          "name": "stderr",
          "text": [
            "/usr/local/lib/python3.10/dist-packages/sklearn/cluster/_kmeans.py:870: FutureWarning: The default value of `n_init` will change from 10 to 'auto' in 1.4. Set the value of `n_init` explicitly to suppress the warning\n",
            "  warnings.warn(\n"
          ]
        },
        {
          "output_type": "display_data",
          "data": {
            "text/plain": [
              "<Figure size 800x600 with 1 Axes>"
            ],
            "image/png": "[encoded data removed]"
          },
          "metadata": {}
        }
      ],
      "source": [
        "from sklearn.cluster import KMeans\n",
        "from sklearn.metrics import silhouette_score\n",
        "import matplotlib.pyplot as plt\n",
        "import pandas as pd\n",
        "\n",
        "# Assuming X_train is your training feature DataFrame\n",
        "max_clusters = 5\n",
        "\n",
        "# Function to perform clustering and return silhouette score\n",
        "def perform_clustering(k):\n",
        "    kmeans = KMeans(n_clusters=k, random_state=42)\n",
        "    kmeans.fit(X_train)\n",
        "    cluster_labels = kmeans.labels_\n",
        "    silhouette_avg = silhouette_score(X_train, cluster_labels)\n",
        "    return silhouette_avg\n",
        "\n",
        "# Perform clustering for different values of K and store silhouette scores\n",
        "silhouette_scores = pd.DataFrame({'K': range(2, max_clusters+1)})\n",
        "silhouette_scores['Silhouette Score'] = silhouette_scores['K'].apply(perform_clustering)\n",
        "\n",
        "# Find the best number of clusters based on silhouette score\n",
        "best_k = silhouette_scores.loc[silhouette_scores['Silhouette Score'].idxmax(), 'K']\n",
        "print(f\"Best number of clusters: {best_k}\")\n",
        "\n",
        "# Perform clustering with the best K value\n",
        "kmeans = KMeans(n_clusters=best_k, random_state=42)\n",
        "kmeans.fit(X_train)\n",
        "cluster_labels = kmeans.labels_\n",
        "\n",
        "# Visualize the clusters (assuming 2D data)\n",
        "plt.figure(figsize=(8, 6))\n",
        "plt.scatter(X_train.iloc[:, 0], X_train.iloc[:, 1], c=cluster_labels, cmap='viridis')\n",
        "plt.scatter(kmeans.cluster_centers_[:, 0], kmeans.cluster_centers_[:, 1], marker='X', s=200, linewidths=3,\n",
        "            color='red', label='Cluster Centers')\n",
        "plt.xlabel('Feature 1')\n",
        "plt.ylabel('Feature 2')\n",
        "plt.title(f'K-means Clustering (K={best_k})')\n",
        "plt.legend()\n",
        "plt.show()"
      ]
    },
    {
      "cell_type": "markdown",
      "id": "0f8dc56c-7d22-4302-98b7-d3059c4e8804",
      "metadata": {
        "id": "0f8dc56c-7d22-4302-98b7-d3059c4e8804"
      },
      "source": [
        "##KNN - K Nearest Neighbor"
      ]
    },
    {
      "cell_type": "code",
      "execution_count": null,
      "id": "bd9302de-0e25-4b58-bed3-6d97b048e3a4",
      "metadata": {
        "colab": {
          "base_uri": "https://localhost:8080/"
        },
        "id": "bd9302de-0e25-4b58-bed3-6d97b048e3a4",
        "outputId": "058928d6-07e3-44a1-f5a5-175c5022543a"
      },
      "outputs": [
        {
          "output_type": "stream",
          "name": "stdout",
          "text": [
            "For k = 1 , Mean Squared Error (MSE): 299.427719\n",
            "For k = 3 , Mean Squared Error (MSE): 246.229558\n",
            "For k = 5 , Mean Squared Error (MSE): 255.42395\n",
            "For k = 7 , Mean Squared Error (MSE): 275.004414\n",
            "For k = 9 , Mean Squared Error (MSE): 287.492181\n"
          ]
        }
      ],
      "source": [
        "from sklearn.neighbors import KNeighborsRegressor\n",
        "\n",
        "#we need to find an optimal value of k for knn\n",
        "#define a range of k values to try\n",
        "k_values = [1, 3, 5, 7, 9]\n",
        "\n",
        "#dictionary to store mean scores for each k value, k value = key, mean score = value\n",
        "knn_mean_scores = {}\n",
        "\n",
        "#loop over each k value\n",
        "for k in k_values:\n",
        "    #create knn model to loop\n",
        "    knn_reg = KNeighborsRegressor(n_neighbors=k)\n",
        "\n",
        "    #perform cv score loop\n",
        "    folds = 10\n",
        "    k_fold = KFold(n_splits = folds, random_state = 42, shuffle = True)\n",
        "\n",
        "    #take the mean of the mse score for that k and put taht into knn_mean_scores dictionary\n",
        "    knn_mean_scores[k] = -cross_val_score(knn_reg, X_train, y_train, cv = k_fold, scoring = 'neg_mean_squared_error').mean()\n",
        "\n",
        "#loop dictionary to print\n",
        "for k, mse in knn_mean_scores.items():\n",
        "    print(\"For k =\", k, \", Mean Squared Error (MSE):\", round(mse, 6))\n"
      ]
    },
    {
      "cell_type": "markdown",
      "id": "0dcb1caa-6fd5-4a88-8f24-d5e4e536e988",
      "metadata": {
        "id": "0dcb1caa-6fd5-4a88-8f24-d5e4e536e988"
      },
      "source": [
        "From the loop, we can see that the minimal mse obtained from knn from k = 1, 3, 5, 7, 9, the optimal k value is k = 3"
      ]
    },
    {
      "cell_type": "code",
      "execution_count": null,
      "id": "8da53ba9-5671-4ec4-a869-203bd3d74ef7",
      "metadata": {
        "colab": {
          "base_uri": "https://localhost:8080/"
        },
        "id": "8da53ba9-5671-4ec4-a869-203bd3d74ef7",
        "outputId": "77c636ba-15c4-493f-fe5a-04df19a9f701"
      },
      "outputs": [
        {
          "output_type": "stream",
          "name": "stdout",
          "text": [
            "Mean CV R-squared score for KNN: 0.984249\n",
            "\n",
            "Mean CV RMSE score for KNN (k = 3): 246.229558\n"
          ]
        }
      ],
      "source": [
        "#use the optimal k value to find the cv R-squared score associated with that model\n",
        "optimal_k = 3\n",
        "knn_model = KNeighborsRegressor(n_neighbors = optimal_k).fit(X_train, y_train)\n",
        "cv_score_knn_r2 = cross_val_score(knn_model, X_train, y_train, cv = k_fold, scoring = 'r2')\n",
        "print(\"Mean CV R-squared score for KNN:\", round(cv_score_knn_r2.mean(), 6))\n",
        "print()\n",
        "print(\"Mean CV RMSE score for KNN (k = 3):\", round(knn_mean_scores[3], 6))"
      ]
    },
    {
      "cell_type": "markdown",
      "id": "b4a2871c-a8aa-478f-acb7-af8e18059538",
      "metadata": {
        "id": "b4a2871c-a8aa-478f-acb7-af8e18059538"
      },
      "source": [
        "##Decision Tree"
      ]
    },
    {
      "cell_type": "code",
      "execution_count": null,
      "id": "9b36736d-b9a1-4aa2-8369-c9cc731ce0c1",
      "metadata": {
        "colab": {
          "base_uri": "https://localhost:8080/"
        },
        "id": "9b36736d-b9a1-4aa2-8369-c9cc731ce0c1",
        "outputId": "39c9cf59-3fd3-41e9-ff00-38a4d39f7309"
      },
      "outputs": [
        {
          "output_type": "stream",
          "name": "stdout",
          "text": [
            "Best parameters: {'max_depth': 10}\n",
            "Best mean squared error: 136.919839\n",
            "\n",
            "Best parameters: {'max_depth': 10}\n",
            "Best R-squared: 0.991084\n"
          ]
        }
      ],
      "source": [
        "#setup decision tree\n",
        "from sklearn.tree import DecisionTreeRegressor\n",
        "from sklearn.model_selection import GridSearchCV\n",
        "\n",
        "#define the parameter grid with different values for max_depth\n",
        "param_dt = {'max_depth': [1, 2, 3, 4, 5, 6, 7, 8, 9, 10]}\n",
        "\n",
        "#setup decision tree model\n",
        "dt_model = DecisionTreeRegressor()\n",
        "\n",
        "#perform grid search with cv to find the best max depth parameter using mse as metric and n_jobs -1 for parallel processing\n",
        "gs_dt_mse = GridSearchCV(dt_model, param_dt, cv = k_fold, scoring = 'neg_mean_squared_error', n_jobs = -1)\n",
        "gs_dt_mse.fit(X_train, y_train)\n",
        "\n",
        "print(\"Best parameters:\", gs_dt_mse.best_params_)\n",
        "print(\"Best mean squared error:\", round(-gs_dt_mse.best_score_, 6))\n",
        "print()\n",
        "\n",
        "#perform grid search with cv to find the best max depth parameter using r-squared as metric and n_jobs -1 for parallel processing\n",
        "gs_dt_r2 = GridSearchCV(dt_model, param_dt, cv = k_fold, scoring = 'r2', n_jobs = -1)\n",
        "gs_dt_r2.fit(X_train, y_train)\n",
        "print(\"Best parameters:\", gs_dt_r2.best_params_)\n",
        "print(\"Best R-squared:\", round(gs_dt_r2.best_score_, 6))"
      ]
    },
    {
      "cell_type": "markdown",
      "id": "81c09417-6aef-4c3c-ae24-07abd94d9bf7",
      "metadata": {
        "id": "81c09417-6aef-4c3c-ae24-07abd94d9bf7"
      },
      "source": [
        "##Random Forest"
      ]
    },
    {
      "cell_type": "code",
      "execution_count": null,
      "id": "44013ede-471e-4c4d-9ac0-b98440426f3b",
      "metadata": {
        "colab": {
          "base_uri": "https://localhost:8080/"
        },
        "id": "44013ede-471e-4c4d-9ac0-b98440426f3b",
        "outputId": "a0253a3f-baff-44aa-ff9e-551df603635b"
      },
      "outputs": [
        {
          "output_type": "stream",
          "name": "stdout",
          "text": [
            "Mean CV MSE score for Random Forest: 50.683103\n",
            "\n",
            "Mean CV R-squared score for Random Forest: 0.996715\n"
          ]
        }
      ],
      "source": [
        "#setup random forest for baseline MSE to compare if overfitting\n",
        "from sklearn.ensemble import RandomForestRegressor\n",
        "\n",
        "rf_model = RandomForestRegressor()\n",
        "\n",
        "rf_model.fit(X_train, y_train)\n",
        "\n",
        "cv_score_rf_mse = cross_val_score(rf_model, X_train, y_train, cv = k_fold, scoring = 'neg_mean_squared_error')\n",
        "cv_score_rf_r2 = cross_val_score(rf_model, X_train, y_train, cv = k_fold, scoring = 'r2')\n",
        "print(\"Mean CV MSE score for Random Forest:\", round(-cv_score_rf_mse.mean(), 6))\n",
        "print()\n",
        "print(\"Mean CV R-squared score for Random Forest:\", round(cv_score_rf_r2.mean(), 6))"
      ]
    },
    {
      "cell_type": "code",
      "execution_count": null,
      "id": "e879361a-03d3-4091-9dce-6c9c27aae5a4",
      "metadata": {
        "colab": {
          "base_uri": "https://localhost:8080/"
        },
        "id": "e879361a-03d3-4091-9dce-6c9c27aae5a4",
        "outputId": "e416f533-e205-4e88-eebd-d499bc87a349"
      },
      "outputs": [
        {
          "output_type": "stream",
          "name": "stdout",
          "text": [
            "Best parameters: {'max_depth': 20, 'min_samples_leaf': 1, 'min_samples_split': 2, 'n_estimators': 300}\n",
            "Best mean squared error: 50.505522\n"
          ]
        }
      ],
      "source": [
        "#perform a gridsearch to find the optimal mse with the best parameters\n",
        "#this will take about 25 minutes to run\n",
        "#define the parameter grid with different values for hyperparameters\n",
        "param_rf = {\n",
        "    'n_estimators': [100, 200, 300],  #number of trees in the forest\n",
        "    'max_depth': [3, 5, 7, 9, 20],   #max depth of the trees aka the # of splits each decision tree is allowed to make\n",
        "    'min_samples_split': [2, 5, 10],   #min observations need to split a node\n",
        "    'min_samples_leaf': [1, 2, 4]}      #min observations need to be at a leaf node\n",
        "\n",
        "#setup random forest model\n",
        "rf_model = RandomForestRegressor()\n",
        "\n",
        "#perform grid search with cv using mse as metric and njobs -1 to parallel process\n",
        "gs_rf_mse = GridSearchCV(rf_model, param_rf, cv = k_fold, scoring = 'neg_mean_squared_error', n_jobs = -1)\n",
        "gs_rf_mse.fit(X_train, y_train)\n",
        "\n",
        "#print the best parameters and best mean squared error\n",
        "print(\"Best parameters:\", gs_rf_mse.best_params_)\n",
        "print(\"Best mean squared error:\", round(-gs_rf_mse.best_score_, 6))"
      ]
    },
    {
      "cell_type": "code",
      "execution_count": null,
      "id": "al3-xdZbTKRg",
      "metadata": {
        "colab": {
          "base_uri": "https://localhost:8080/"
        },
        "id": "al3-xdZbTKRg",
        "outputId": "bea1dc5d-8c0d-4b32-d7d3-8a102374709d"
      },
      "outputs": [
        {
          "output_type": "stream",
          "name": "stdout",
          "text": [
            "Mean CV R-squared score for Random Forest: 0.996739\n"
          ]
        }
      ],
      "source": [
        "#using the parameters found in the best mean squared error\n",
        "rf_model_best_param = RandomForestRegressor(n_estimators = 300, max_depth = 20, min_samples_split = 2, min_samples_leaf = 1)\n",
        "\n",
        "#perform cross-validation\n",
        "cv_score_rf = cross_val_score(rf_model_best_param, X_train, y_train, cv = k_fold, scoring = 'r2', n_jobs = -1)\n",
        "\n",
        "#print the mean R-squared score\n",
        "print(\"Mean CV R-squared score for Random Forest:\", round(cv_score_rf.mean(), 6))"
      ]
    },
    {
      "cell_type": "code",
      "source": [
        "import matplotlib.pyplot as plt\n",
        "\n",
        "#fit best model on entire training data to obtain feature importances\n",
        "rf_reg = rf_model_best_param.fit(X_train, y_train)\n",
        "rf_feat_importances = rf_reg.feature_importances_\n",
        "\n",
        "#create a pandas series to map feature importances to their corresponding feature names\n",
        "importances = pd.Series(rf_feat_importances, index = ['S', 'K', 'tau', 'r'])\n",
        "\n",
        "#sort the features by importance\n",
        "sorted_importances = importances.sort_values()\n",
        "\n",
        "#plotting\n",
        "plt.figure(figsize=(8,4))\n",
        "sorted_importances.plot(kind='barh', color='skyblue')\n",
        "plt.title('Features Importance from Random Forest Regressor')\n",
        "plt.show()"
      ],
      "metadata": {
        "colab": {
          "base_uri": "https://localhost:8080/",
          "height": 391
        },
        "id": "-FKkPKxaii7m",
        "outputId": "b1ec33b3-b8db-489b-a357-65c14bcebc9c"
      },
      "id": "-FKkPKxaii7m",
      "execution_count": null,
      "outputs": [
        {
          "output_type": "display_data",
          "data": {
            "text/plain": [
              "<Figure size 800x400 with 1 Axes>"
            ],
            "image/png": "[encoded data removed]"
          },
          "metadata": {}
        }
      ]
    },
    {
      "cell_type": "markdown",
      "id": "7a96ff7c-5e2c-4619-8930-9e4f68616791",
      "metadata": {
        "id": "7a96ff7c-5e2c-4619-8930-9e4f68616791"
      },
      "source": [
        "##Ridge and Lasso Regression"
      ]
    },
    {
      "cell_type": "markdown",
      "id": "9b16f3d1-4fb2-4c5a-b1aa-975fcdba3de2",
      "metadata": {
        "id": "9b16f3d1-4fb2-4c5a-b1aa-975fcdba3de2"
      },
      "source": [
        "###Ridge:"
      ]
    },
    {
      "cell_type": "code",
      "execution_count": null,
      "id": "e1418b0a-775c-42eb-babe-b38b9a668bb7",
      "metadata": {
        "colab": {
          "base_uri": "https://localhost:8080/"
        },
        "id": "e1418b0a-775c-42eb-babe-b38b9a668bb7",
        "outputId": "e43694a5-9187-4439-a63d-ab68d017f59d"
      },
      "outputs": [
        {
          "output_type": "stream",
          "name": "stdout",
          "text": [
            "Optimal alpha value for Ridge regression: 0.0202\n",
            "\n",
            "Mean CV MSE score for Ridge: 1178.302928\n",
            "\n",
            "Mean CV R-squared score for Ridge: 0.924414\n"
          ]
        }
      ],
      "source": [
        "from sklearn.linear_model import Ridge, RidgeCV\n",
        "\n",
        "#alpha scale\n",
        "alphas = 10**np.linspace(10,-2,100)*0.5\n",
        "\n",
        "ridgecv = RidgeCV(alphas = alphas, scoring = 'r2', cv = k_fold)\n",
        "ridgecv.fit(X_train, y_train)\n",
        "optimal_ridge_alpha = ridgecv.alpha_\n",
        "print('Optimal alpha value for Ridge regression:', round(optimal_ridge_alpha, 4))\n",
        "print()\n",
        "\n",
        "#use optimal alpha in ridge model to find cv r-squared and mse\n",
        "ridge_model = Ridge(alpha = ridgecv.alpha_)\n",
        "\n",
        "cv_score_ridge_mse = cross_val_score(ridge_model, X_train, y_train, cv = k_fold, scoring = 'neg_mean_squared_error')\n",
        "cv_score_ridge_r2 = cross_val_score(ridge_model, X_train, y_train, cv = k_fold, scoring = 'r2')\n",
        "\n",
        "print(\"Mean CV MSE score for Ridge:\", round(-cv_score_ridge_mse.mean(), 6))\n",
        "print()\n",
        "print(\"Mean CV R-squared score for Ridge:\", round(cv_score_ridge_r2.mean(), 6))\n"
      ]
    },
    {
      "cell_type": "markdown",
      "id": "4ac0032a-209a-4b27-b471-44a5d0caaf57",
      "metadata": {
        "id": "4ac0032a-209a-4b27-b471-44a5d0caaf57"
      },
      "source": [
        "###Lasso:"
      ]
    },
    {
      "cell_type": "code",
      "execution_count": null,
      "id": "1068067a-ae76-4c6d-bc53-4e4ea4fe54d5",
      "metadata": {
        "colab": {
          "base_uri": "https://localhost:8080/"
        },
        "id": "1068067a-ae76-4c6d-bc53-4e4ea4fe54d5",
        "outputId": "ce6638be-ff4c-4d4b-e93a-bf95a89d9d2d"
      },
      "outputs": [
        {
          "output_type": "stream",
          "name": "stdout",
          "text": [
            "Optimal alpha value for Lasso regression: 0.0116\n",
            "\n",
            "Mean CV MSE score for Lasso: 1178.245307\n",
            "\n",
            "Mean CV R-squared score for Lasso: 0.924418\n"
          ]
        }
      ],
      "source": [
        "from sklearn.linear_model import Lasso, LassoCV\n",
        "from sklearn.metrics import make_scorer, r2_score #need for finding r2 with lasso regression\n",
        "\n",
        "lassocv = LassoCV(alphas = alphas, cv = k_fold) #lassoCV only uses scoring = neg mean squared error\n",
        "lassocv.fit(X_train, y_train)\n",
        "optimal_lasso_alpha = lassocv.alpha_\n",
        "print('Optimal alpha value for Lasso regression:', round(optimal_lasso_alpha, 4))\n",
        "print()\n",
        "\n",
        "#use optimal alpha in ridge model to find cv mse\n",
        "lasso_model = Lasso(alpha = lassocv.alpha_)\n",
        "\n",
        "cv_score_lasso_mse = cross_val_score(lasso_model, X_train, y_train, cv = k_fold, scoring = 'neg_mean_squared_error')\n",
        "\n",
        "#because lasso doesn't have r2 we have to make it ourselves so we define a custom scorer for R2 score to put in cv scoring argumernt\n",
        "r2_scorer = make_scorer(r2_score, greater_is_better = True)\n",
        "\n",
        "#use r2_scorer as scoring argument in cv\n",
        "cv_score_lasso_r2 = cross_val_score(lasso_model, X_train, y_train, cv = k_fold, scoring = r2_scorer)\n",
        "\n",
        "#print mean cv mse and r2 score\n",
        "print(\"Mean CV MSE score for Lasso:\", round(-cv_score_lasso_mse.mean(), 6))\n",
        "print()\n",
        "print(\"Mean CV R-squared score for Lasso:\", round(cv_score_lasso_r2.mean(), 6))"
      ]
    },
    {
      "cell_type": "markdown",
      "id": "bdea274d-1b42-4d8d-bf53-1ffb49eddb3e",
      "metadata": {
        "id": "bdea274d-1b42-4d8d-bf53-1ffb49eddb3e"
      },
      "source": [
        "##SVM - Support Vector Machine"
      ]
    },
    {
      "cell_type": "code",
      "execution_count": null,
      "id": "8d3c11e6-afff-4b97-bff6-93fa9c3018d1",
      "metadata": {
        "colab": {
          "base_uri": "https://localhost:8080/"
        },
        "id": "8d3c11e6-afff-4b97-bff6-93fa9c3018d1",
        "outputId": "87bf6e6c-0171-4d88-d971-955d2f310b8d"
      },
      "outputs": [
        {
          "output_type": "stream",
          "name": "stdout",
          "text": [
            "Best parameters: {'C': 10, 'gamma': 0.1, 'kernel': 'linear'}\n",
            "Best MSE: 1316.661485\n",
            "\n",
            "Best parameters: {'C': 10, 'gamma': 0.1, 'kernel': 'linear'}\n",
            "Best R-squared: 0.915584\n"
          ]
        }
      ],
      "source": [
        "from sklearn.svm import SVR\n",
        "\n",
        "#takes 9 minutes to run\n",
        "#set up SVM model\n",
        "svm_model = SVR()\n",
        "\n",
        "#set up parameters to check\n",
        "param_svm = {\n",
        "    'C': [0.1, 1, 10],         #budget for amount that margin can be violated\n",
        "    'kernel': ['linear', 'poly', 'rbf'],  #kernel type\n",
        "    'gamma': [0.1, 0.01, 0.001]}  #kernel coefficient for radial kernel\n",
        "\n",
        "#grid search cv for mse\n",
        "gs_svr_mse = GridSearchCV(svm_model, param_svm, cv = k_fold, scoring = 'neg_mean_squared_error', n_jobs = -1)\n",
        "gs_svr_mse.fit(X_train, y_train)\n",
        "\n",
        "#grid search cv for r-squared\n",
        "gs_svr_r2 = GridSearchCV(svm_model, param_svm, cv = k_fold, scoring = 'r2', n_jobs = -1)\n",
        "gs_svr_r2.fit(X_train, y_train)\n",
        "\n",
        "print(\"Best parameters:\", gs_svr_mse.best_params_)\n",
        "print(\"Best MSE:\", round(-gs_svr_mse.best_score_, 6))\n",
        "print()\n",
        "print(\"Best parameters:\", gs_svr_r2.best_params_)\n",
        "print(\"Best R-squared:\", round(gs_svr_r2.best_score_, 6))"
      ]
    },
    {
      "cell_type": "markdown",
      "id": "608ae0a1-cee5-4654-92ca-f406ba717f9d",
      "metadata": {
        "id": "608ae0a1-cee5-4654-92ca-f406ba717f9d"
      },
      "source": [
        "#EVALUATION METRIC SUMMARY FOR REGRESSION TECHNIQUES:"
      ]
    },
    {
      "cell_type": "code",
      "execution_count": null,
      "id": "a05c7179-7f21-4a95-99fe-3633940c5496",
      "metadata": {
        "colab": {
          "base_uri": "https://localhost:8080/"
        },
        "id": "a05c7179-7f21-4a95-99fe-3633940c5496",
        "outputId": "b30b2e30-e330-4d7b-c376-b5e0fb70a3bb"
      },
      "outputs": [
        {
          "output_type": "stream",
          "name": "stdout",
          "text": [
            "OLS:\n",
            "Best mean CV MSE score for OLS: 1178.304931\n",
            "Best mean CV R-squared score for OLS: 0.924414\n",
            "\n",
            "KNN:\n",
            "Best mean CV MSE score for KNN (k = 3): 246.229558\n",
            "Best mean CV R-squared score for KNN (k = 3): 0.984249\n",
            "\n",
            "Decision Tree:\n",
            "Best mean CV MSE score for Decision Tree 139.223729\n",
            "Best mean CV R-squared score for Decision Tree: 0.991017\n",
            "\n",
            "Random Forest:\n",
            "Best mean CV MSE score for Random Forest: 50.505522\n",
            "Best mean CV R-squared score for Random Forest: 0.996751\n",
            "\n",
            "Ridge Regression:\n",
            "Best mean CV MSE score for Ridge at alpha = 0.0202: 1178.302928\n",
            "Best mean CV R-squared score for Ridge at alpha = 0.0202: 0.924414\n",
            "\n",
            "Lasso\n",
            "Best mean CV MSE score for Lasso at alpha = 0.0116: 1178.245307\n",
            "Best mean CV R-squared score for Lasso at alpha = 0.0116: 0.924418\n",
            "\n",
            "Support Vector Machine:\n",
            "Best mean CV MSE score for SVM: 1316.661485\n",
            "Best mean CV R-squared score for SVM: 0.915584\n"
          ]
        }
      ],
      "source": [
        "print('OLS:')\n",
        "print(\"Best mean CV MSE score for OLS:\", round(-cv_score_ols_mse.mean(), 6))\n",
        "print(\"Best mean CV R-squared score for OLS:\", round(cv_score_ols_r2.mean(), 6))\n",
        "print()\n",
        "\n",
        "print('KNN:')\n",
        "print(\"Best mean CV MSE score for KNN (k = 3):\", round(knn_mean_scores[3], 6))\n",
        "print(\"Best mean CV R-squared score for KNN (k = 3):\", round(cv_score_knn_r2.mean(), 6))\n",
        "print()\n",
        "\n",
        "print('Decision Tree:')\n",
        "print(\"Best mean CV MSE score for Decision Tree\", round(-gs_dt_mse.best_score_, 6))\n",
        "print(\"Best mean CV R-squared score for Decision Tree:\", round(gs_dt_r2.best_score_, 6))\n",
        "print()\n",
        "\n",
        "print('Random Forest:')\n",
        "print(\"Best mean CV MSE score for Random Forest:\", round(-gs_rf_mse.best_score_, 6))\n",
        "print(\"Best mean CV R-squared score for Random Forest:\", round(cv_score_rf.mean(), 6))\n",
        "print()\n",
        "\n",
        "print('Ridge Regression:')\n",
        "print('Best mean CV MSE score for Ridge at alpha = 0.0202:', round(-cv_score_ridge_mse.mean(), 6))\n",
        "print('Best mean CV R-squared score for Ridge at alpha = 0.0202:', round(cv_score_ridge_r2.mean(), 6))\n",
        "print()\n",
        "\n",
        "print('Lasso')\n",
        "print('Best mean CV MSE score for Lasso at alpha = 0.0116:', round(-cv_score_lasso_mse.mean(), 6))\n",
        "print('Best mean CV R-squared score for Lasso at alpha = 0.0116:', round(cv_score_lasso_r2.mean(), 6))\n",
        "print()\n",
        "\n",
        "print('Support Vector Machine:')\n",
        "print(\"Best mean CV MSE score for SVM:\", round(-gs_svr_mse.best_score_, 6))\n",
        "print(\"Best mean CV R-squared score for SVM:\", round(gs_svr_r2.best_score_, 6))"
      ]
    },
    {
      "cell_type": "markdown",
      "id": "150c6779-2bad-427c-af7e-f1cfe32b2e18",
      "metadata": {
        "id": "150c6779-2bad-427c-af7e-f1cfe32b2e18"
      },
      "source": [
        "#CLASSFICATION MODELS:"
      ]
    },
    {
      "cell_type": "code",
      "execution_count": null,
      "id": "f67ef324-60c3-41f1-820e-3471fa11b92f",
      "metadata": {
        "colab": {
          "base_uri": "https://localhost:8080/"
        },
        "id": "f67ef324-60c3-41f1-820e-3471fa11b92f",
        "outputId": "a2920555-0bed-437f-ab7c-d01e39aba497"
      },
      "outputs": [
        {
          "output_type": "stream",
          "name": "stdout",
          "text": [
            "Classification Training Features:\n",
            "\n",
            "        Value         S         K       tau         r\n",
            "0     348.500  0.493758  0.240964  0.048485  0.434783\n",
            "1     149.375  0.637599  0.522088  0.657576  0.304348\n",
            "2     294.500  0.815164  0.381526  0.396970  0.260870\n",
            "3       3.375  0.400236  0.602410  0.036364  0.565217\n",
            "4      84.000  0.387028  0.481928  0.236364  0.565217\n",
            "...       ...       ...       ...       ...       ...\n",
            "4995  325.250  0.762827  0.341365  0.375758  0.217391\n",
            "4996   36.000  0.822663  0.586345  0.018182  0.217391\n",
            "4997   90.000  0.349498  0.602410  0.651515  0.608696\n",
            "4998  175.875  0.261191  0.361446  0.248485  0.695652\n",
            "4999  106.375  0.822663  0.582329  0.463636  0.217391\n",
            "\n",
            "[5000 rows x 5 columns]\n",
            "\n",
            "Classification Training Target:\n",
            "\n",
            "0       0\n",
            "1       0\n",
            "2       0\n",
            "3       1\n",
            "4       0\n",
            "       ..\n",
            "4995    0\n",
            "4996    1\n",
            "4997    0\n",
            "4998    0\n",
            "4999    0\n",
            "Name: BSE, Length: 5000, dtype: int64\n"
          ]
        }
      ],
      "source": [
        "#set up data to train classificaiton models\n",
        "\n",
        "X_clf_train = df_train.drop(['BS', 'BSE'], axis = 1)\n",
        "y_clf_train = df_train['BSE']\n",
        "\n",
        "print('Classification Training Features:')\n",
        "print()\n",
        "print(X_clf_train)\n",
        "print()\n",
        "print('Classification Training Target:')\n",
        "print()\n",
        "print(y_clf_train)"
      ]
    },
    {
      "cell_type": "markdown",
      "id": "3fde1d12-f15e-4b9b-ab5f-051a1f221f82",
      "metadata": {
        "id": "3fde1d12-f15e-4b9b-ab5f-051a1f221f82"
      },
      "source": [
        "##Logistic Regression:"
      ]
    },
    {
      "cell_type": "code",
      "execution_count": null,
      "id": "439d53f9-d619-4549-a8a4-f9a44fdac7ff",
      "metadata": {
        "colab": {
          "base_uri": "https://localhost:8080/"
        },
        "id": "439d53f9-d619-4549-a8a4-f9a44fdac7ff",
        "outputId": "b7d135e7-8a38-4302-ec08-d67146c67d89"
      },
      "outputs": [
        {
          "output_type": "stream",
          "name": "stdout",
          "text": [
            "Mean CV accuracy score for Logit: 0.8794\n"
          ]
        }
      ],
      "source": [
        "from sklearn.linear_model import LogisticRegression\n",
        "from sklearn.model_selection import StratifiedKFold\n",
        "\n",
        "#set up stratified kfold\n",
        "folds_clf = 10\n",
        "skf = StratifiedKFold(n_splits = folds_clf, random_state = 42, shuffle = True)\n",
        "\n",
        "#set up logit model\n",
        "logit_model = LogisticRegression(max_iter = 1_000)\n",
        "\n",
        "cv_score_logit_acc = cross_val_score(logit_model, X_train, y_clf_train, cv = skf, scoring = 'accuracy')\n",
        "\n",
        "print('Mean CV accuracy score for Logit:', round(cv_score_logit_acc.mean(), 4))"
      ]
    },
    {
      "cell_type": "markdown",
      "id": "EGRe4pmixYvO",
      "metadata": {
        "id": "EGRe4pmixYvO"
      },
      "source": [
        "##LDA"
      ]
    },
    {
      "cell_type": "code",
      "execution_count": null,
      "id": "rit5EqC9qTCt",
      "metadata": {
        "colab": {
          "base_uri": "https://localhost:8080/"
        },
        "id": "rit5EqC9qTCt",
        "outputId": "a2055b02-d24a-4cca-a876-2883c3579c08"
      },
      "outputs": [
        {
          "output_type": "stream",
          "name": "stdout",
          "text": [
            "Mean CV accuracy score for LDA: 0.8692\n",
            "\n",
            "Confusion Matrix:\n",
            " [[3764  104]\n",
            " [ 551  581]]\n",
            "\n",
            "Classification Report:\n",
            "               precision    recall  f1-score   support\n",
            "\n",
            "           0       0.87      0.97      0.92      3868\n",
            "           1       0.85      0.51      0.64      1132\n",
            "\n",
            "    accuracy                           0.87      5000\n",
            "   macro avg       0.86      0.74      0.78      5000\n",
            "weighted avg       0.87      0.87      0.86      5000\n",
            "\n"
          ]
        }
      ],
      "source": [
        "from sklearn.discriminant_analysis import LinearDiscriminantAnalysis\n",
        "from sklearn.metrics import accuracy_score, confusion_matrix, classification_report\n",
        "\n",
        "#initialize and train the Linear Discriminant Analysis Classifier\n",
        "lda_classifier = LinearDiscriminantAnalysis()\n",
        "lda_classifier.fit(X_train, y_clf_train)\n",
        "\n",
        "cv_score_lda_acc = cross_val_score(lda_classifier, X_train, y_clf_train, cv = skf, scoring = 'accuracy')\n",
        "\n",
        "print('Mean CV accuracy score for LDA:', round(cv_score_lda_acc.mean(), 6))\n",
        "print()\n",
        "\n",
        "#predict on the validation set to get a confusion matrix\n",
        "y_pred_lda = lda_classifier.predict(X_train)\n",
        "\n",
        "#confusion matrix\n",
        "conf_matrix_lda = confusion_matrix(y_clf_train, y_pred_lda)\n",
        "print('Confusion Matrix:\\n', conf_matrix_lda)\n",
        "print()\n",
        "\n",
        "report_lda = classification_report(y_clf_train, y_pred_lda)\n",
        "print('Classification Report:\\n', report_lda)\n"
      ]
    },
    {
      "cell_type": "markdown",
      "id": "e74136dd-2e36-426b-aeae-c6847f8dfa0b",
      "metadata": {
        "id": "e74136dd-2e36-426b-aeae-c6847f8dfa0b"
      },
      "source": [
        "##KNN - K Nearest Neighbor - Classification:"
      ]
    },
    {
      "cell_type": "code",
      "execution_count": null,
      "id": "78c6be37-cef0-4d09-8b60-8901f06995ed",
      "metadata": {
        "colab": {
          "base_uri": "https://localhost:8080/"
        },
        "id": "78c6be37-cef0-4d09-8b60-8901f06995ed",
        "outputId": "e188264c-433b-4b6b-d4c7-9dac663add14"
      },
      "outputs": [
        {
          "output_type": "stream",
          "name": "stdout",
          "text": [
            "KNN best parameter:  {'n_neighbors': 3}\n",
            "KNN best mean accuracy:  0.9158\n"
          ]
        }
      ],
      "source": [
        "from sklearn.neighbors import KNeighborsClassifier\n",
        "\n",
        "#define parameters\n",
        "param_knn_clf = {'n_neighbors': [3, 5, 7, 9]}  #k neighbors\n",
        "\n",
        "#setup KNN clf model\n",
        "knn_clf_model = KNeighborsClassifier()\n",
        "\n",
        "#grid search with cv\n",
        "gs_knn_clf = GridSearchCV(knn_clf_model, param_knn_clf, cv = skf, scoring = 'accuracy', n_jobs = -1)\n",
        "gs_knn_clf.fit(X_train, y_clf_train)\n",
        "\n",
        "print('KNN best parameter: ', gs_knn_clf.best_params_)\n",
        "print('KNN best mean accuracy: ', round(gs_knn_clf.best_score_, 4))"
      ]
    },
    {
      "cell_type": "markdown",
      "id": "ab39a1b9-3b27-498a-a39d-8371c6837be9",
      "metadata": {
        "id": "ab39a1b9-3b27-498a-a39d-8371c6837be9"
      },
      "source": [
        "##Decision Tree - Classification:"
      ]
    },
    {
      "cell_type": "code",
      "execution_count": null,
      "id": "ccadfbc6-8bb6-472f-9ac1-f20427ea4718",
      "metadata": {
        "colab": {
          "base_uri": "https://localhost:8080/"
        },
        "id": "ccadfbc6-8bb6-472f-9ac1-f20427ea4718",
        "outputId": "2fc9fcda-fec0-4130-82e3-4c6bf79abecc"
      },
      "outputs": [
        {
          "output_type": "stream",
          "name": "stdout",
          "text": [
            "Decision Tree best parameters: {'max_depth': 30, 'min_samples_leaf': 1, 'min_samples_split': 2}\n",
            "Decision Tree best mean accuracy: 0.9152\n"
          ]
        }
      ],
      "source": [
        "from sklearn.tree import DecisionTreeClassifier\n",
        "\n",
        "#define parameters\n",
        "param_dt_clf = {\n",
        "    'max_depth': [None, 10, 20, 30],  #max depth of the tree\n",
        "    'min_samples_split': [2, 5, 10],  #min samples need to split a node\n",
        "    'min_samples_leaf': [1, 2, 4]}  #min samples need at each leaf node\n",
        "\n",
        "#set up decision tree model for clf\n",
        "dt_clf_model = DecisionTreeClassifier()\n",
        "\n",
        "#grid search with cv\n",
        "gs_dt_clf = GridSearchCV(dt_clf_model, param_dt_clf, cv = skf, scoring = 'accuracy', n_jobs = -1)\n",
        "gs_dt_clf.fit(X_train, y_clf_train)\n",
        "\n",
        "print(\"Decision Tree best parameters:\", gs_dt_clf.best_params_)\n",
        "print(\"Decision Tree best mean accuracy:\", round(gs_dt_clf.best_score_, 4))"
      ]
    },
    {
      "cell_type": "markdown",
      "id": "ba9934eb-1fe5-4763-a518-3a2afec92b22",
      "metadata": {
        "id": "ba9934eb-1fe5-4763-a518-3a2afec92b22"
      },
      "source": [
        "##Random Forest - Classification:"
      ]
    },
    {
      "cell_type": "code",
      "execution_count": null,
      "id": "6cf77ed8-73db-4fe5-ad28-fc42190a1989",
      "metadata": {
        "colab": {
          "base_uri": "https://localhost:8080/"
        },
        "id": "6cf77ed8-73db-4fe5-ad28-fc42190a1989",
        "outputId": "c22c46d6-0acc-4b66-c66d-08d96902b101"
      },
      "outputs": [
        {
          "output_type": "stream",
          "name": "stdout",
          "text": [
            "Random Forest best mean accuracy: 0.9352\n"
          ]
        }
      ],
      "source": [
        "from sklearn.ensemble import RandomForestClassifier\n",
        "\n",
        "#set up random foreset model for clf\n",
        "rf_clf_model = RandomForestClassifier(n_estimators = 300, max_depth = 20, min_samples_split = 2, min_samples_leaf = 1)\n",
        "\n",
        "#cv using same optimal parameters as in regression for random forest\n",
        "cv_rf_clf = cross_val_score(rf_clf_model, X_train, y_clf_train, cv = skf, scoring = 'accuracy')\n",
        "\n",
        "print(\"Random Forest best mean accuracy:\", round(cv_rf_clf.mean(), 4))"
      ]
    },
    {
      "cell_type": "markdown",
      "id": "f8ef3b58-e2de-4638-a638-d324ab3fd881",
      "metadata": {
        "id": "f8ef3b58-e2de-4638-a638-d324ab3fd881"
      },
      "source": [
        "##SVM - Support Vector Maching - Classification:"
      ]
    },
    {
      "cell_type": "code",
      "execution_count": null,
      "id": "14fb1133-4345-4803-bdb9-246281393e9a",
      "metadata": {
        "colab": {
          "base_uri": "https://localhost:8080/"
        },
        "id": "14fb1133-4345-4803-bdb9-246281393e9a",
        "outputId": "2e512439-55d5-420c-caa5-9803c686f0b4"
      },
      "outputs": [
        {
          "output_type": "stream",
          "name": "stdout",
          "text": [
            "SVM best mean accuracy: 0.8926\n"
          ]
        }
      ],
      "source": [
        "from sklearn.svm import SVC\n",
        "\n",
        "#setup SVM model\n",
        "svm_clf_model = SVC(C = 10, gamma = 0.1, kernel = 'linear')\n",
        "\n",
        "#cv using same optimal parameters as svm regression\n",
        "cv_svm_clf = cross_val_score(svm_clf_model, X_train, y_clf_train, cv = skf, scoring = 'accuracy')\n",
        "\n",
        "print(\"SVM best mean accuracy:\", round(cv_svm_clf.mean(), 4))"
      ]
    },
    {
      "cell_type": "markdown",
      "id": "b526cf74-53ff-4799-9b2c-abf370597fe2",
      "metadata": {
        "id": "b526cf74-53ff-4799-9b2c-abf370597fe2"
      },
      "source": [
        "#EVALUATION METRIC SUMMARY FOR CLASSIFICATION TECHNIQUES:"
      ]
    },
    {
      "cell_type": "code",
      "execution_count": null,
      "id": "130cc9e8-5cd7-407a-9a80-95fdede6ec63",
      "metadata": {
        "colab": {
          "base_uri": "https://localhost:8080/"
        },
        "id": "130cc9e8-5cd7-407a-9a80-95fdede6ec63",
        "outputId": "022bc487-756e-4ff0-a338-9fc8eb6d6340"
      },
      "outputs": [
        {
          "output_type": "stream",
          "name": "stdout",
          "text": [
            "Best mean CV accuracy score for Logit: 0.8794\n",
            "Best mean CV accuracy score for LDA: 0.8692\n",
            "Best mean CV accuracy score for KNN:  0.9158\n",
            "Best mean CV accuracy score for Decision Tree: 0.9152\n",
            "Best mean CV accuracy score for Random Forest: 0.9352\n",
            "Best mean CV accuracy score for SVM: 0.8926\n"
          ]
        }
      ],
      "source": [
        "print('Best mean CV accuracy score for Logit:', round(cv_score_logit_acc.mean(), 4))\n",
        "print('Best mean CV accuracy score for LDA:', round(cv_score_lda_acc.mean(), 4))\n",
        "print('Best mean CV accuracy score for KNN: ', round(gs_knn_clf.best_score_, 4))\n",
        "print(\"Best mean CV accuracy score for Decision Tree:\", round(gs_dt_clf.best_score_, 4))\n",
        "print(\"Best mean CV accuracy score for Random Forest:\", round(cv_rf_clf.mean(), 4))\n",
        "print(\"Best mean CV accuracy score for SVM:\", round(cv_svm_clf.mean(), 4))"
      ]
    },
    {
      "cell_type": "code",
      "source": [
        "#ROC-AUC for best model\n",
        "\n",
        "cv_rf_roc_auc = cross_val_score(rf_clf_model, X_train, y_clf_train,\n",
        "                                cv = skf, scoring = 'roc_auc')\n",
        "\n",
        "print(\"Mean ROC AUC for Random Forest:\", np.mean(cv_rf_roc_auc))"
      ],
      "metadata": {
        "colab": {
          "base_uri": "https://localhost:8080/"
        },
        "id": "X4B8Qm4gnhoL",
        "outputId": "b0fb5c2d-af95-49af-f07c-e65a0a12a165"
      },
      "id": "X4B8Qm4gnhoL",
      "execution_count": null,
      "outputs": [
        {
          "output_type": "stream",
          "name": "stdout",
          "text": [
            "Mean ROC AUC for Random Forest: 0.973565356619061\n"
          ]
        }
      ]
    },
    {
      "cell_type": "markdown",
      "source": [
        "#Test Data Prediction"
      ],
      "metadata": {
        "id": "4m7QfRgUuTKO"
      },
      "id": "4m7QfRgUuTKO"
    },
    {
      "cell_type": "markdown",
      "source": [
        "##EDA & Preprocessing"
      ],
      "metadata": {
        "id": "XBpAkVk4vMvB"
      },
      "id": "XBpAkVk4vMvB"
    },
    {
      "cell_type": "code",
      "source": [
        "from google.colab import files\n",
        "uploaded = files.upload()"
      ],
      "metadata": {
        "colab": {
          "base_uri": "https://localhost:8080/",
          "height": 74
        },
        "id": "SAoksOrxuWFM",
        "outputId": "56501f94-9eb3-4003-d9be-a375cb5a674c"
      },
      "id": "SAoksOrxuWFM",
      "execution_count": null,
      "outputs": [
        {
          "output_type": "display_data",
          "data": {
            "text/plain": [
              "<IPython.core.display.HTML object>"
            ],
            "text/html": [
              "\n",
              "     <input type=\"file\" id=\"files-05e73f76-042d-4aa0-8b38-ec4c80805a4f\" name=\"files[]\" multiple disabled\n",
              "        style=\"border:none\" />\n",
              "     <output id=\"result-05e73f76-042d-4aa0-8b38-ec4c80805a4f\">\n",
              "      Upload widget is only available when the cell has been executed in the\n",
              "      current browser session. Please rerun this cell to enable.\n",
              "      </output>\n",
              "      <script>// Copyright 2017 Google LLC\n",
              "//\n",
              "// Licensed under the Apache License, Version 2.0 (the \"License\");\n",
              "// you may not use this file except in compliance with the License.\n",
              "// You may obtain a copy of the License at\n",
              "//\n",
              "//      http://www.apache.org/licenses/LICENSE-2.0\n",
              "//\n",
              "// Unless required by applicable law or agreed to in writing, software\n",
              "// distributed under the License is distributed on an \"AS IS\" BASIS,\n",
              "// WITHOUT WARRANTIES OR CONDITIONS OF ANY KIND, either express or implied.\n",
              "// See the License for the specific language governing permissions and\n",
              "// limitations under the License.\n",
              "\n",
              "/**\n",
              " * @fileoverview Helpers for google.colab Python module.\n",
              " */\n",
              "(function(scope) {\n",
              "function span(text, styleAttributes = {}) {\n",
              "  const element = document.createElement('span');\n",
              "  element.textContent = text;\n",
              "  for (const key of Object.keys(styleAttributes)) {\n",
              "    element.style[key] = styleAttributes[key];\n",
              "  }\n",
              "  return element;\n",
              "}\n",
              "\n",
              "// Max number of bytes which will be uploaded at a time.\n",
              "const MAX_PAYLOAD_SIZE = 100 * 1024;\n",
              "\n",
              "function _uploadFiles(inputId, outputId) {\n",
              "  const steps = uploadFilesStep(inputId, outputId);\n",
              "  const outputElement = document.getElementById(outputId);\n",
              "  // Cache steps on the outputElement to make it available for the next call\n",
              "  // to uploadFilesContinue from Python.\n",
              "  outputElement.steps = steps;\n",
              "\n",
              "  return _uploadFilesContinue(outputId);\n",
              "}\n",
              "\n",
              "// This is roughly an async generator (not supported in the browser yet),\n",
              "// where there are multiple asynchronous steps and the Python side is going\n",
              "// to poll for completion of each step.\n",
              "// This uses a Promise to block the python side on completion of each step,\n",
              "// then passes the result of the previous step as the input to the next step.\n",
              "function _uploadFilesContinue(outputId) {\n",
              "  const outputElement = document.getElementById(outputId);\n",
              "  const steps = outputElement.steps;\n",
              "\n",
              "  const next = steps.next(outputElement.lastPromiseValue);\n",
              "  return Promise.resolve(next.value.promise).then((value) => {\n",
              "    // Cache the last promise value to make it available to the next\n",
              "    // step of the generator.\n",
              "    outputElement.lastPromiseValue = value;\n",
              "    return next.value.response;\n",
              "  });\n",
              "}\n",
              "\n",
              "/**\n",
              " * Generator function which is called between each async step of the upload\n",
              " * process.\n",
              " * @param {string} inputId Element ID of the input file picker element.\n",
              " * @param {string} outputId Element ID of the output display.\n",
              " * @return {!Iterable<!Object>} Iterable of next steps.\n",
              " */\n",
              "function* uploadFilesStep(inputId, outputId) {\n",
              "  const inputElement = document.getElementById(inputId);\n",
              "  inputElement.disabled = false;\n",
              "\n",
              "  const outputElement = document.getElementById(outputId);\n",
              "  outputElement.innerHTML = '';\n",
              "\n",
              "  const pickedPromise = new Promise((resolve) => {\n",
              "    inputElement.addEventListener('change', (e) => {\n",
              "      resolve(e.target.files);\n",
              "    });\n",
              "  });\n",
              "\n",
              "  const cancel = document.createElement('button');\n",
              "  inputElement.parentElement.appendChild(cancel);\n",
              "  cancel.textContent = 'Cancel upload';\n",
              "  const cancelPromise = new Promise((resolve) => {\n",
              "    cancel.onclick = () => {\n",
              "      resolve(null);\n",
              "    };\n",
              "  });\n",
              "\n",
              "  // Wait for the user to pick the files.\n",
              "  const files = yield {\n",
              "    promise: Promise.race([pickedPromise, cancelPromise]),\n",
              "    response: {\n",
              "      action: 'starting',\n",
              "    }\n",
              "  };\n",
              "\n",
              "  cancel.remove();\n",
              "\n",
              "  // Disable the input element since further picks are not allowed.\n",
              "  inputElement.disabled = true;\n",
              "\n",
              "  if (!files) {\n",
              "    return {\n",
              "      response: {\n",
              "        action: 'complete',\n",
              "      }\n",
              "    };\n",
              "  }\n",
              "\n",
              "  for (const file of files) {\n",
              "    const li = document.createElement('li');\n",
              "    li.append(span(file.name, {fontWeight: 'bold'}));\n",
              "    li.append(span(\n",
              "        `(${file.type || 'n/a'}) - ${file.size} bytes, ` +\n",
              "        `last modified: ${\n",
              "            file.lastModifiedDate ? file.lastModifiedDate.toLocaleDateString() :\n",
              "                                    'n/a'} - `));\n",
              "    const percent = span('0% done');\n",
              "    li.appendChild(percent);\n",
              "\n",
              "    outputElement.appendChild(li);\n",
              "\n",
              "    const fileDataPromise = new Promise((resolve) => {\n",
              "      const reader = new FileReader();\n",
              "      reader.onload = (e) => {\n",
              "        resolve(e.target.result);\n",
              "      };\n",
              "      reader.readAsArrayBuffer(file);\n",
              "    });\n",
              "    // Wait for the data to be ready.\n",
              "    let fileData = yield {\n",
              "      promise: fileDataPromise,\n",
              "      response: {\n",
              "        action: 'continue',\n",
              "      }\n",
              "    };\n",
              "\n",
              "    // Use a chunked sending to avoid message size limits. See b/62115660.\n",
              "    let position = 0;\n",
              "    do {\n",
              "      const length = Math.min(fileData.byteLength - position, MAX_PAYLOAD_SIZE);\n",
              "      const chunk = new Uint8Array(fileData, position, length);\n",
              "      position += length;\n",
              "\n",
              "      const base64 = btoa(String.fromCharCode.apply(null, chunk));\n",
              "      yield {\n",
              "        response: {\n",
              "          action: 'append',\n",
              "          file: file.name,\n",
              "          data: base64,\n",
              "        },\n",
              "      };\n",
              "\n",
              "      let percentDone = fileData.byteLength === 0 ?\n",
              "          100 :\n",
              "          Math.round((position / fileData.byteLength) * 100);\n",
              "      percent.textContent = `${percentDone}% done`;\n",
              "\n",
              "    } while (position < fileData.byteLength);\n",
              "  }\n",
              "\n",
              "  // All done.\n",
              "  yield {\n",
              "    response: {\n",
              "      action: 'complete',\n",
              "    }\n",
              "  };\n",
              "}\n",
              "\n",
              "scope.google = scope.google || {};\n",
              "scope.google.colab = scope.google.colab || {};\n",
              "scope.google.colab._files = {\n",
              "  _uploadFiles,\n",
              "  _uploadFilesContinue,\n",
              "};\n",
              "})(self);\n",
              "</script> "
            ]
          },
          "metadata": {}
        },
        {
          "output_type": "stream",
          "name": "stdout",
          "text": [
            "Saving option_test_nolabel.csv to option_test_nolabel (1).csv\n"
          ]
        }
      ]
    },
    {
      "cell_type": "code",
      "source": [
        "#load training dataset\n",
        "df_test = pd.read_csv('option_test_nolabel.csv')\n",
        "df_test.head()"
      ],
      "metadata": {
        "colab": {
          "base_uri": "https://localhost:8080/",
          "height": 206
        },
        "id": "nYxqzEWaugSv",
        "outputId": "9c056aca-a4fe-41b7-8a83-9c7f0a94f670"
      },
      "id": "nYxqzEWaugSv",
      "execution_count": null,
      "outputs": [
        {
          "output_type": "execute_result",
          "data": {
            "text/plain": [
              "   Unnamed: 0        S     K       tau       r\n",
              "0           1  1409.28  1325  0.126027  0.0115\n",
              "1           2  1505.97  1100  0.315068  0.0110\n",
              "2           3  1409.57  1450  0.197260  0.0116\n",
              "3           4  1407.81  1250  0.101370  0.0116\n",
              "4           5  1494.50  1300  0.194521  0.0110"
            ],
            "text/html": [
              "\n",
              "  <div id=\"df-8839c417-98f8-433e-8882-4edfad12852b\" class=\"colab-df-container\">\n",
              "    <div>\n",
              "<style scoped>\n",
              "    .dataframe tbody tr th:only-of-type {\n",
              "        vertical-align: middle;\n",
              "    }\n",
              "\n",
              "    .dataframe tbody tr th {\n",
              "        vertical-align: top;\n",
              "    }\n",
              "\n",
              "    .dataframe thead th {\n",
              "        text-align: right;\n",
              "    }\n",
              "</style>\n",
              "<table border=\"1\" class=\"dataframe\">\n",
              "  <thead>\n",
              "    <tr style=\"text-align: right;\">\n",
              "      <th></th>\n",
              "      <th>Unnamed: 0</th>\n",
              "      <th>S</th>\n",
              "      <th>K</th>\n",
              "      <th>tau</th>\n",
              "      <th>r</th>\n",
              "    </tr>\n",
              "  </thead>\n",
              "  <tbody>\n",
              "    <tr>\n",
              "      <th>0</th>\n",
              "      <td>1</td>\n",
              "      <td>1409.28</td>\n",
              "      <td>1325</td>\n",
              "      <td>0.126027</td>\n",
              "      <td>0.0115</td>\n",
              "    </tr>\n",
              "    <tr>\n",
              "      <th>1</th>\n",
              "      <td>2</td>\n",
              "      <td>1505.97</td>\n",
              "      <td>1100</td>\n",
              "      <td>0.315068</td>\n",
              "      <td>0.0110</td>\n",
              "    </tr>\n",
              "    <tr>\n",
              "      <th>2</th>\n",
              "      <td>3</td>\n",
              "      <td>1409.57</td>\n",
              "      <td>1450</td>\n",
              "      <td>0.197260</td>\n",
              "      <td>0.0116</td>\n",
              "    </tr>\n",
              "    <tr>\n",
              "      <th>3</th>\n",
              "      <td>4</td>\n",
              "      <td>1407.81</td>\n",
              "      <td>1250</td>\n",
              "      <td>0.101370</td>\n",
              "      <td>0.0116</td>\n",
              "    </tr>\n",
              "    <tr>\n",
              "      <th>4</th>\n",
              "      <td>5</td>\n",
              "      <td>1494.50</td>\n",
              "      <td>1300</td>\n",
              "      <td>0.194521</td>\n",
              "      <td>0.0110</td>\n",
              "    </tr>\n",
              "  </tbody>\n",
              "</table>\n",
              "</div>\n",
              "    <div class=\"colab-df-buttons\">\n",
              "\n",
              "  <div class=\"colab-df-container\">\n",
              "    <button class=\"colab-df-convert\" onclick=\"convertToInteractive('df-8839c417-98f8-433e-8882-4edfad12852b')\"\n",
              "            title=\"Convert this dataframe to an interactive table.\"\n",
              "            style=\"display:none;\">\n",
              "\n",
              "  <svg xmlns=\"http://www.w3.org/2000/svg\" height=\"24px\" viewBox=\"0 -960 960 960\">\n",
              "    <path d=\"M120-120v-720h720v720H120Zm60-500h600v-160H180v160Zm220 220h160v-160H400v160Zm0 220h160v-160H400v160ZM180-400h160v-160H180v160Zm440 0h160v-160H620v160ZM180-180h160v-160H180v160Zm440 0h160v-160H620v160Z\"/>\n",
              "  </svg>\n",
              "    </button>\n",
              "\n",
              "  <style>\n",
              "    .colab-df-container {\n",
              "      display:flex;\n",
              "      gap: 12px;\n",
              "    }\n",
              "\n",
              "    .colab-df-convert {\n",
              "      background-color: #E8F0FE;\n",
              "      border: none;\n",
              "      border-radius: 50%;\n",
              "      cursor: pointer;\n",
              "      display: none;\n",
              "      fill: #1967D2;\n",
              "      height: 32px;\n",
              "      padding: 0 0 0 0;\n",
              "      width: 32px;\n",
              "    }\n",
              "\n",
              "    .colab-df-convert:hover {\n",
              "      background-color: #E2EBFA;\n",
              "      box-shadow: 0px 1px 2px rgba(60, 64, 67, 0.3), 0px 1px 3px 1px rgba(60, 64, 67, 0.15);\n",
              "      fill: #174EA6;\n",
              "    }\n",
              "\n",
              "    .colab-df-buttons div {\n",
              "      margin-bottom: 4px;\n",
              "    }\n",
              "\n",
              "    [theme=dark] .colab-df-convert {\n",
              "      background-color: #3B4455;\n",
              "      fill: #D2E3FC;\n",
              "    }\n",
              "\n",
              "    [theme=dark] .colab-df-convert:hover {\n",
              "      background-color: #434B5C;\n",
              "      box-shadow: 0px 1px 3px 1px rgba(0, 0, 0, 0.15);\n",
              "      filter: drop-shadow(0px 1px 2px rgba(0, 0, 0, 0.3));\n",
              "      fill: #FFFFFF;\n",
              "    }\n",
              "  </style>\n",
              "\n",
              "    <script>\n",
              "      const buttonEl =\n",
              "        document.querySelector('#df-8839c417-98f8-433e-8882-4edfad12852b button.colab-df-convert');\n",
              "      buttonEl.style.display =\n",
              "        google.colab.kernel.accessAllowed ? 'block' : 'none';\n",
              "\n",
              "      async function convertToInteractive(key) {\n",
              "        const element = document.querySelector('#df-8839c417-98f8-433e-8882-4edfad12852b');\n",
              "        const dataTable =\n",
              "          await google.colab.kernel.invokeFunction('convertToInteractive',\n",
              "                                                    [key], {});\n",
              "        if (!dataTable) return;\n",
              "\n",
              "        const docLinkHtml = 'Like what you see? Visit the ' +\n",
              "          '<a target=\"_blank\" href=https://colab.research.google.com/notebooks/data_table.ipynb>data table notebook</a>'\n",
              "          + ' to learn more about interactive tables.';\n",
              "        element.innerHTML = '';\n",
              "        dataTable['output_type'] = 'display_data';\n",
              "        await google.colab.output.renderOutput(dataTable, element);\n",
              "        const docLink = document.createElement('div');\n",
              "        docLink.innerHTML = docLinkHtml;\n",
              "        element.appendChild(docLink);\n",
              "      }\n",
              "    </script>\n",
              "  </div>\n",
              "\n",
              "\n",
              "<div id=\"df-6ada9756-8829-48a8-8fec-f6c080ba806f\">\n",
              "  <button class=\"colab-df-quickchart\" onclick=\"quickchart('df-6ada9756-8829-48a8-8fec-f6c080ba806f')\"\n",
              "            title=\"Suggest charts\"\n",
              "            style=\"display:none;\">\n",
              "\n",
              "<svg xmlns=\"http://www.w3.org/2000/svg\" height=\"24px\"viewBox=\"0 0 24 24\"\n",
              "     width=\"24px\">\n",
              "    <g>\n",
              "        <path d=\"M19 3H5c-1.1 0-2 .9-2 2v14c0 1.1.9 2 2 2h14c1.1 0 2-.9 2-2V5c0-1.1-.9-2-2-2zM9 17H7v-7h2v7zm4 0h-2V7h2v10zm4 0h-2v-4h2v4z\"/>\n",
              "    </g>\n",
              "</svg>\n",
              "  </button>\n",
              "\n",
              "<style>\n",
              "  .colab-df-quickchart {\n",
              "      --bg-color: #E8F0FE;\n",
              "      --fill-color: #1967D2;\n",
              "      --hover-bg-color: #E2EBFA;\n",
              "      --hover-fill-color: #174EA6;\n",
              "      --disabled-fill-color: #AAA;\n",
              "      --disabled-bg-color: #DDD;\n",
              "  }\n",
              "\n",
              "  [theme=dark] .colab-df-quickchart {\n",
              "      --bg-color: #3B4455;\n",
              "      --fill-color: #D2E3FC;\n",
              "      --hover-bg-color: #434B5C;\n",
              "      --hover-fill-color: #FFFFFF;\n",
              "      --disabled-bg-color: #3B4455;\n",
              "      --disabled-fill-color: #666;\n",
              "  }\n",
              "\n",
              "  .colab-df-quickchart {\n",
              "    background-color: var(--bg-color);\n",
              "    border: none;\n",
              "    border-radius: 50%;\n",
              "    cursor: pointer;\n",
              "    display: none;\n",
              "    fill: var(--fill-color);\n",
              "    height: 32px;\n",
              "    padding: 0;\n",
              "    width: 32px;\n",
              "  }\n",
              "\n",
              "  .colab-df-quickchart:hover {\n",
              "    background-color: var(--hover-bg-color);\n",
              "    box-shadow: 0 1px 2px rgba(60, 64, 67, 0.3), 0 1px 3px 1px rgba(60, 64, 67, 0.15);\n",
              "    fill: var(--button-hover-fill-color);\n",
              "  }\n",
              "\n",
              "  .colab-df-quickchart-complete:disabled,\n",
              "  .colab-df-quickchart-complete:disabled:hover {\n",
              "    background-color: var(--disabled-bg-color);\n",
              "    fill: var(--disabled-fill-color);\n",
              "    box-shadow: none;\n",
              "  }\n",
              "\n",
              "  .colab-df-spinner {\n",
              "    border: 2px solid var(--fill-color);\n",
              "    border-color: transparent;\n",
              "    border-bottom-color: var(--fill-color);\n",
              "    animation:\n",
              "      spin 1s steps(1) infinite;\n",
              "  }\n",
              "\n",
              "  @keyframes spin {\n",
              "    0% {\n",
              "      border-color: transparent;\n",
              "      border-bottom-color: var(--fill-color);\n",
              "      border-left-color: var(--fill-color);\n",
              "    }\n",
              "    20% {\n",
              "      border-color: transparent;\n",
              "      border-left-color: var(--fill-color);\n",
              "      border-top-color: var(--fill-color);\n",
              "    }\n",
              "    30% {\n",
              "      border-color: transparent;\n",
              "      border-left-color: var(--fill-color);\n",
              "      border-top-color: var(--fill-color);\n",
              "      border-right-color: var(--fill-color);\n",
              "    }\n",
              "    40% {\n",
              "      border-color: transparent;\n",
              "      border-right-color: var(--fill-color);\n",
              "      border-top-color: var(--fill-color);\n",
              "    }\n",
              "    60% {\n",
              "      border-color: transparent;\n",
              "      border-right-color: var(--fill-color);\n",
              "    }\n",
              "    80% {\n",
              "      border-color: transparent;\n",
              "      border-right-color: var(--fill-color);\n",
              "      border-bottom-color: var(--fill-color);\n",
              "    }\n",
              "    90% {\n",
              "      border-color: transparent;\n",
              "      border-bottom-color: var(--fill-color);\n",
              "    }\n",
              "  }\n",
              "</style>\n",
              "\n",
              "  <script>\n",
              "    async function quickchart(key) {\n",
              "      const quickchartButtonEl =\n",
              "        document.querySelector('#' + key + ' button');\n",
              "      quickchartButtonEl.disabled = true;  // To prevent multiple clicks.\n",
              "      quickchartButtonEl.classList.add('colab-df-spinner');\n",
              "      try {\n",
              "        const charts = await google.colab.kernel.invokeFunction(\n",
              "            'suggestCharts', [key], {});\n",
              "      } catch (error) {\n",
              "        console.error('Error during call to suggestCharts:', error);\n",
              "      }\n",
              "      quickchartButtonEl.classList.remove('colab-df-spinner');\n",
              "      quickchartButtonEl.classList.add('colab-df-quickchart-complete');\n",
              "    }\n",
              "    (() => {\n",
              "      let quickchartButtonEl =\n",
              "        document.querySelector('#df-6ada9756-8829-48a8-8fec-f6c080ba806f button');\n",
              "      quickchartButtonEl.style.display =\n",
              "        google.colab.kernel.accessAllowed ? 'block' : 'none';\n",
              "    })();\n",
              "  </script>\n",
              "</div>\n",
              "\n",
              "    </div>\n",
              "  </div>\n"
            ],
            "application/vnd.google.colaboratory.intrinsic+json": {
              "type": "dataframe",
              "variable_name": "df_test",
              "summary": "{\n  \"name\": \"df_test\",\n  \"rows\": 500,\n  \"fields\": [\n    {\n      \"column\": \"Unnamed: 0\",\n      \"properties\": {\n        \"dtype\": \"number\",\n        \"std\": 144,\n        \"min\": 1,\n        \"max\": 500,\n        \"num_unique_values\": 500,\n        \"samples\": [\n          362,\n          74,\n          375\n        ],\n        \"semantic_type\": \"\",\n        \"description\": \"\"\n      }\n    },\n    {\n      \"column\": \"S\",\n      \"properties\": {\n        \"dtype\": \"number\",\n        \"std\": 55.26999377643981,\n        \"min\": 1264.74,\n        \"max\": 1527.46,\n        \"num_unique_values\": 219,\n        \"samples\": [\n          1366.42,\n          1421.22,\n          1448.72\n        ],\n        \"semantic_type\": \"\",\n        \"description\": \"\"\n      }\n    },\n    {\n      \"column\": \"K\",\n      \"properties\": {\n        \"dtype\": \"number\",\n        \"std\": 167,\n        \"min\": 850,\n        \"max\": 1995,\n        \"num_unique_values\": 52,\n        \"samples\": [\n          1150,\n          1395,\n          1455\n        ],\n        \"semantic_type\": \"\",\n        \"description\": \"\"\n      }\n    },\n    {\n      \"column\": \"tau\",\n      \"properties\": {\n        \"dtype\": \"number\",\n        \"std\": 0.22191633216899417,\n        \"min\": 0.0849315068493151,\n        \"max\": 0.986301369863014,\n        \"num_unique_values\": 168,\n        \"samples\": [\n          0.810958904109589,\n          0.583561643835616,\n          0.83013698630137\n        ],\n        \"semantic_type\": \"\",\n        \"description\": \"\"\n      }\n    },\n    {\n      \"column\": \"r\",\n      \"properties\": {\n        \"dtype\": \"number\",\n        \"std\": 0.00044493763495347984,\n        \"min\": 0.0106,\n        \"max\": 0.0129,\n        \"num_unique_values\": 22,\n        \"samples\": [\n          0.0115,\n          0.0112,\n          0.0113\n        ],\n        \"semantic_type\": \"\",\n        \"description\": \"\"\n      }\n    }\n  ]\n}"
            }
          },
          "metadata": {},
          "execution_count": 46
        }
      ]
    },
    {
      "cell_type": "code",
      "source": [
        "#drop the first column\n",
        "df_test = df_test.drop(['Unnamed: 0'], axis = 1)\n",
        "print(df_test)"
      ],
      "metadata": {
        "colab": {
          "base_uri": "https://localhost:8080/"
        },
        "id": "aWZUZ6oguo9Z",
        "outputId": "724fe1d8-6cbc-4ecb-f344-bfe568f2313e"
      },
      "id": "aWZUZ6oguo9Z",
      "execution_count": null,
      "outputs": [
        {
          "output_type": "stream",
          "name": "stdout",
          "text": [
            "           S     K       tau       r\n",
            "0    1409.28  1325  0.126027  0.0115\n",
            "1    1505.97  1100  0.315068  0.0110\n",
            "2    1409.57  1450  0.197260  0.0116\n",
            "3    1407.81  1250  0.101370  0.0116\n",
            "4    1494.50  1300  0.194521  0.0110\n",
            "..       ...   ...       ...     ...\n",
            "495  1514.09  1200  0.301370  0.0109\n",
            "496  1359.15  1500  0.260274  0.0119\n",
            "497  1396.93  1410  0.156164  0.0117\n",
            "498  1436.51  1475  0.463014  0.0114\n",
            "499  1264.74  1100  0.238356  0.0129\n",
            "\n",
            "[500 rows x 4 columns]\n"
          ]
        }
      ]
    },
    {
      "cell_type": "code",
      "source": [
        "#check for nulls\n",
        "df_test.isnull().sum()"
      ],
      "metadata": {
        "colab": {
          "base_uri": "https://localhost:8080/"
        },
        "id": "GMWtSPORu9cg",
        "outputId": "97e51277-68d6-4865-a949-d620fd2e49ad"
      },
      "id": "GMWtSPORu9cg",
      "execution_count": null,
      "outputs": [
        {
          "output_type": "execute_result",
          "data": {
            "text/plain": [
              "S      0\n",
              "K      0\n",
              "tau    0\n",
              "r      0\n",
              "dtype: int64"
            ]
          },
          "metadata": {},
          "execution_count": 48
        }
      ]
    },
    {
      "cell_type": "code",
      "source": [
        "#check for zero or negative values\n",
        "print(df_test.describe())"
      ],
      "metadata": {
        "colab": {
          "base_uri": "https://localhost:8080/"
        },
        "id": "8evyMYXvvDFc",
        "outputId": "a1a9f2f7-0a0a-412b-a670-d90ad8b280f9"
      },
      "id": "8evyMYXvvDFc",
      "execution_count": null,
      "outputs": [
        {
          "output_type": "stream",
          "name": "stdout",
          "text": [
            "                 S            K         tau           r\n",
            "count   500.000000   500.000000  500.000000  500.000000\n",
            "mean   1425.534580  1360.390000    0.316022    0.011476\n",
            "std      55.269994   167.710021    0.221916    0.000445\n",
            "min    1264.740000   850.000000    0.084932    0.010600\n",
            "25%    1386.170000  1250.000000    0.141781    0.011100\n",
            "50%    1432.220000  1375.000000    0.235616    0.011400\n",
            "75%    1467.285000  1470.000000    0.437671    0.011800\n",
            "max    1527.460000  1995.000000    0.986301    0.012900\n"
          ]
        }
      ]
    },
    {
      "cell_type": "code",
      "source": [
        "#normalize training features data\n",
        "df_test[numerical_features] = scaler.transform(df_test[numerical_features])\n",
        "\n",
        "print(df_test)"
      ],
      "metadata": {
        "colab": {
          "base_uri": "https://localhost:8080/"
        },
        "id": "O621-ISCvJeF",
        "outputId": "d870269d-afae-4f13-b1fa-5ec3b3096ffc"
      },
      "id": "O621-ISCvJeF",
      "execution_count": null,
      "outputs": [
        {
          "output_type": "stream",
          "name": "stdout",
          "text": [
            "            S         K       tau         r\n",
            "0    0.550167  0.461847  0.045455  0.391304\n",
            "1    0.918202  0.281124  0.254545  0.173913\n",
            "2    0.551271  0.562249  0.124242  0.434783\n",
            "3    0.544572  0.401606  0.018182  0.434783\n",
            "4    0.874543  0.441767  0.121212  0.173913\n",
            "..        ...       ...       ...       ...\n",
            "495  0.949109  0.361446  0.239394  0.130435\n",
            "496  0.359356  0.602410  0.193939  0.565217\n",
            "497  0.503159  0.530120  0.078788  0.478261\n",
            "498  0.653814  0.582329  0.418182  0.347826\n",
            "499  0.000000  0.281124  0.169697  1.000000\n",
            "\n",
            "[500 rows x 4 columns]\n"
          ]
        }
      ]
    },
    {
      "cell_type": "code",
      "source": [
        "#predict values and class label\n",
        "\n",
        "#regression values\n",
        "rf_reg_best = rf_model_best_param\n",
        "values = rf_reg_best.predict(df_test)\n",
        "print('First 10 Values:')\n",
        "print()\n",
        "print(values[:10])\n",
        "print()\n",
        "\n",
        "#class labels\n",
        "rf_clf_best = rf_clf_model.fit(X_train, y_clf_train)\n",
        "BS = rf_clf_best.predict(df_test)\n",
        "print('First 10 Labels:')\n",
        "print()\n",
        "print(BS[:10])"
      ],
      "metadata": {
        "colab": {
          "base_uri": "https://localhost:8080/"
        },
        "id": "P3wPj9CSwwg0",
        "outputId": "b863c2e9-a92a-4445-d76f-4e8e8a0cde26"
      },
      "id": "P3wPj9CSwwg0",
      "execution_count": null,
      "outputs": [
        {
          "output_type": "stream",
          "name": "stdout",
          "text": [
            "First 10 Values:\n",
            "\n",
            "[112.89666667 427.72166667  42.77208333 182.10958333 220.01166667\n",
            " 267.36625     42.99208333 254.65166667 284.14541667  99.35083333]\n",
            "\n",
            "First 10 Labels:\n",
            "\n",
            "[0 0 0 0 0 0 1 0 0 0]\n"
          ]
        }
      ]
    },
    {
      "cell_type": "code",
      "source": [
        "combine = list(zip(values, BS))\n",
        "output = pd.DataFrame(combine, columns=['Value', 'BS'])\n",
        "output.to_csv('group_9_prediction.csv', index=False)\n",
        "output_csv_path = 'group_9_prediction.csv'\n",
        "output_df = pd.read_csv(output_csv_path)\n",
        "print(output_df)"
      ],
      "metadata": {
        "colab": {
          "base_uri": "https://localhost:8080/"
        },
        "id": "xGqE7mioxcZy",
        "outputId": "333bb5b1-7dd5-4bff-bee0-0662a75f0217"
      },
      "id": "xGqE7mioxcZy",
      "execution_count": null,
      "outputs": [
        {
          "output_type": "stream",
          "name": "stdout",
          "text": [
            "          Value  BS\n",
            "0    112.896667   0\n",
            "1    427.721667   0\n",
            "2     42.772083   0\n",
            "3    182.109583   0\n",
            "4    220.011667   0\n",
            "..          ...  ..\n",
            "495  329.392083   0\n",
            "496   18.780000   1\n",
            "497   40.776250   0\n",
            "498   77.951667   0\n",
            "499  227.239167   0\n",
            "\n",
            "[500 rows x 2 columns]\n"
          ]
        }
      ]
    },
    {
      "cell_type": "code",
      "source": [
        "output.BS.value_counts()"
      ],
      "metadata": {
        "colab": {
          "base_uri": "https://localhost:8080/"
        },
        "id": "YGxwuaYd0m6L",
        "outputId": "60d136a5-7f32-4b3c-f586-cdfb15039645"
      },
      "id": "YGxwuaYd0m6L",
      "execution_count": null,
      "outputs": [
        {
          "output_type": "execute_result",
          "data": {
            "text/plain": [
              "BS\n",
              "0    393\n",
              "1    107\n",
              "Name: count, dtype: int64"
            ]
          },
          "metadata": {},
          "execution_count": 70
        }
      ]
    },
    {
      "cell_type": "code",
      "source": [],
      "metadata": {
        "id": "xc2ShlBX1rhv"
      },
      "id": "xc2ShlBX1rhv",
      "execution_count": null,
      "outputs": []
    }
  ],
  "metadata": {
    "colab": {
      "collapsed_sections": [
        "7a96ff7c-5e2c-4619-8930-9e4f68616791",
        "9b16f3d1-4fb2-4c5a-b1aa-975fcdba3de2",
        "4ac0032a-209a-4b27-b471-44a5d0caaf57",
        "608ae0a1-cee5-4654-92ca-f406ba717f9d",
        "3fde1d12-f15e-4b9b-ab5f-051a1f221f82",
        "EGRe4pmixYvO",
        "e74136dd-2e36-426b-aeae-c6847f8dfa0b",
        "ab39a1b9-3b27-498a-a39d-8371c6837be9",
        "f8ef3b58-e2de-4638-a638-d324ab3fd881"
      ],
      "provenance": []
    },
    "kernelspec": {
      "display_name": "Python 3",
      "name": "python3"
    },
    "language_info": {
      "codemirror_mode": {
        "name": "ipython",
        "version": 3
      },
      "file_extension": ".py",
      "mimetype": "text/x-python",
      "name": "python",
      "nbconvert_exporter": "python",
      "pygments_lexer": "ipython3",
      "version": "3.11.4"
    }
  },
  "nbformat": 4,
  "nbformat_minor": 5
}